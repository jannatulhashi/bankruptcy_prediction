{
  "nbformat": 4,
  "nbformat_minor": 0,
  "metadata": {
    "colab": {
      "provenance": []
    },
    "kernelspec": {
      "name": "python3",
      "display_name": "Python 3"
    },
    "language_info": {
      "name": "python"
    }
  },
  "cells": [
    {
      "cell_type": "markdown",
      "source": [
        "# Preprocessing\n"
      ],
      "metadata": {
        "id": "OWPztO-YOxyC"
      }
    },
    {
      "cell_type": "code",
      "source": [
        "# Import our dependencies\n",
        "import pandas as pd\n",
        "import matplotlib.pyplot as plt\n",
        "import pandas as pd\n",
        "import numpy as np\n",
        "import seaborn as sns\n",
        "from sklearn.model_selection import train_test_split\n",
        "from sklearn.preprocessing import StandardScaler\n"
      ],
      "metadata": {
        "id": "UUeicf_wO0BN"
      },
      "execution_count": 71,
      "outputs": []
    },
    {
      "cell_type": "code",
      "source": [
        "# Import and read the data.csv\n",
        "\n",
        "url = \"https://raw.githubusercontent.com/jannatulhashi/predicting_bankrupt_companies/main/data.csv\"\n",
        "\n",
        "# Read the CSV file into a DataFrame\n",
        "bankruptcy_df = pd.read_csv(url)\n",
        "\n",
        "# Display the first few rows of the DataFrame\n",
        "bankruptcy_df.head()\n",
        "\n"
      ],
      "metadata": {
        "colab": {
          "base_uri": "https://localhost:8080/",
          "height": 343
        },
        "id": "vagIc3CuPCCl",
        "outputId": "08574954-5bcb-43db-d0e4-cf39779af66b"
      },
      "execution_count": 72,
      "outputs": [
        {
          "output_type": "execute_result",
          "data": {
            "text/plain": [
              "   Bankrupt?   ROA(C) before interest and depreciation before interest  \\\n",
              "0          1                                           0.370594          \n",
              "1          1                                           0.464291          \n",
              "2          1                                           0.426071          \n",
              "3          1                                           0.399844          \n",
              "4          1                                           0.465022          \n",
              "\n",
              "    ROA(A) before interest and % after tax  \\\n",
              "0                                 0.424389   \n",
              "1                                 0.538214   \n",
              "2                                 0.499019   \n",
              "3                                 0.451265   \n",
              "4                                 0.538432   \n",
              "\n",
              "    ROA(B) before interest and depreciation after tax  \\\n",
              "0                                           0.405750    \n",
              "1                                           0.516730    \n",
              "2                                           0.472295    \n",
              "3                                           0.457733    \n",
              "4                                           0.522298    \n",
              "\n",
              "    Operating Gross Margin   Realized Sales Gross Margin  \\\n",
              "0                 0.601457                      0.601457   \n",
              "1                 0.610235                      0.610235   \n",
              "2                 0.601450                      0.601364   \n",
              "3                 0.583541                      0.583541   \n",
              "4                 0.598783                      0.598783   \n",
              "\n",
              "    Operating Profit Rate   Pre-tax net Interest Rate  \\\n",
              "0                0.998969                    0.796887   \n",
              "1                0.998946                    0.797380   \n",
              "2                0.998857                    0.796403   \n",
              "3                0.998700                    0.796967   \n",
              "4                0.998973                    0.797366   \n",
              "\n",
              "    After-tax net Interest Rate   Non-industry income and expenditure/revenue  \\\n",
              "0                      0.808809                                      0.302646   \n",
              "1                      0.809301                                      0.303556   \n",
              "2                      0.808388                                      0.302035   \n",
              "3                      0.808966                                      0.303350   \n",
              "4                      0.809304                                      0.303475   \n",
              "\n",
              "   ...   Net Income to Total Assets   Total assets to GNP price  \\\n",
              "0  ...                     0.716845                    0.009219   \n",
              "1  ...                     0.795297                    0.008323   \n",
              "2  ...                     0.774670                    0.040003   \n",
              "3  ...                     0.739555                    0.003252   \n",
              "4  ...                     0.795016                    0.003878   \n",
              "\n",
              "    No-credit Interval   Gross Profit to Sales  \\\n",
              "0             0.622879                0.601453   \n",
              "1             0.623652                0.610237   \n",
              "2             0.623841                0.601449   \n",
              "3             0.622929                0.583538   \n",
              "4             0.623521                0.598782   \n",
              "\n",
              "    Net Income to Stockholder's Equity   Liability to Equity  \\\n",
              "0                             0.827890              0.290202   \n",
              "1                             0.839969              0.283846   \n",
              "2                             0.836774              0.290189   \n",
              "3                             0.834697              0.281721   \n",
              "4                             0.839973              0.278514   \n",
              "\n",
              "    Degree of Financial Leverage (DFL)  \\\n",
              "0                             0.026601   \n",
              "1                             0.264577   \n",
              "2                             0.026555   \n",
              "3                             0.026697   \n",
              "4                             0.024752   \n",
              "\n",
              "    Interest Coverage Ratio (Interest expense to EBIT)   Net Income Flag  \\\n",
              "0                                           0.564050                   1   \n",
              "1                                           0.570175                   1   \n",
              "2                                           0.563706                   1   \n",
              "3                                           0.564663                   1   \n",
              "4                                           0.575617                   1   \n",
              "\n",
              "    Equity to Liability  \n",
              "0              0.016469  \n",
              "1              0.020794  \n",
              "2              0.016474  \n",
              "3              0.023982  \n",
              "4              0.035490  \n",
              "\n",
              "[5 rows x 96 columns]"
            ],
            "text/html": [
              "\n",
              "  <div id=\"df-0ff0046d-f7fc-4365-888d-a269450c3bb5\" class=\"colab-df-container\">\n",
              "    <div>\n",
              "<style scoped>\n",
              "    .dataframe tbody tr th:only-of-type {\n",
              "        vertical-align: middle;\n",
              "    }\n",
              "\n",
              "    .dataframe tbody tr th {\n",
              "        vertical-align: top;\n",
              "    }\n",
              "\n",
              "    .dataframe thead th {\n",
              "        text-align: right;\n",
              "    }\n",
              "</style>\n",
              "<table border=\"1\" class=\"dataframe\">\n",
              "  <thead>\n",
              "    <tr style=\"text-align: right;\">\n",
              "      <th></th>\n",
              "      <th>Bankrupt?</th>\n",
              "      <th>ROA(C) before interest and depreciation before interest</th>\n",
              "      <th>ROA(A) before interest and % after tax</th>\n",
              "      <th>ROA(B) before interest and depreciation after tax</th>\n",
              "      <th>Operating Gross Margin</th>\n",
              "      <th>Realized Sales Gross Margin</th>\n",
              "      <th>Operating Profit Rate</th>\n",
              "      <th>Pre-tax net Interest Rate</th>\n",
              "      <th>After-tax net Interest Rate</th>\n",
              "      <th>Non-industry income and expenditure/revenue</th>\n",
              "      <th>...</th>\n",
              "      <th>Net Income to Total Assets</th>\n",
              "      <th>Total assets to GNP price</th>\n",
              "      <th>No-credit Interval</th>\n",
              "      <th>Gross Profit to Sales</th>\n",
              "      <th>Net Income to Stockholder's Equity</th>\n",
              "      <th>Liability to Equity</th>\n",
              "      <th>Degree of Financial Leverage (DFL)</th>\n",
              "      <th>Interest Coverage Ratio (Interest expense to EBIT)</th>\n",
              "      <th>Net Income Flag</th>\n",
              "      <th>Equity to Liability</th>\n",
              "    </tr>\n",
              "  </thead>\n",
              "  <tbody>\n",
              "    <tr>\n",
              "      <th>0</th>\n",
              "      <td>1</td>\n",
              "      <td>0.370594</td>\n",
              "      <td>0.424389</td>\n",
              "      <td>0.405750</td>\n",
              "      <td>0.601457</td>\n",
              "      <td>0.601457</td>\n",
              "      <td>0.998969</td>\n",
              "      <td>0.796887</td>\n",
              "      <td>0.808809</td>\n",
              "      <td>0.302646</td>\n",
              "      <td>...</td>\n",
              "      <td>0.716845</td>\n",
              "      <td>0.009219</td>\n",
              "      <td>0.622879</td>\n",
              "      <td>0.601453</td>\n",
              "      <td>0.827890</td>\n",
              "      <td>0.290202</td>\n",
              "      <td>0.026601</td>\n",
              "      <td>0.564050</td>\n",
              "      <td>1</td>\n",
              "      <td>0.016469</td>\n",
              "    </tr>\n",
              "    <tr>\n",
              "      <th>1</th>\n",
              "      <td>1</td>\n",
              "      <td>0.464291</td>\n",
              "      <td>0.538214</td>\n",
              "      <td>0.516730</td>\n",
              "      <td>0.610235</td>\n",
              "      <td>0.610235</td>\n",
              "      <td>0.998946</td>\n",
              "      <td>0.797380</td>\n",
              "      <td>0.809301</td>\n",
              "      <td>0.303556</td>\n",
              "      <td>...</td>\n",
              "      <td>0.795297</td>\n",
              "      <td>0.008323</td>\n",
              "      <td>0.623652</td>\n",
              "      <td>0.610237</td>\n",
              "      <td>0.839969</td>\n",
              "      <td>0.283846</td>\n",
              "      <td>0.264577</td>\n",
              "      <td>0.570175</td>\n",
              "      <td>1</td>\n",
              "      <td>0.020794</td>\n",
              "    </tr>\n",
              "    <tr>\n",
              "      <th>2</th>\n",
              "      <td>1</td>\n",
              "      <td>0.426071</td>\n",
              "      <td>0.499019</td>\n",
              "      <td>0.472295</td>\n",
              "      <td>0.601450</td>\n",
              "      <td>0.601364</td>\n",
              "      <td>0.998857</td>\n",
              "      <td>0.796403</td>\n",
              "      <td>0.808388</td>\n",
              "      <td>0.302035</td>\n",
              "      <td>...</td>\n",
              "      <td>0.774670</td>\n",
              "      <td>0.040003</td>\n",
              "      <td>0.623841</td>\n",
              "      <td>0.601449</td>\n",
              "      <td>0.836774</td>\n",
              "      <td>0.290189</td>\n",
              "      <td>0.026555</td>\n",
              "      <td>0.563706</td>\n",
              "      <td>1</td>\n",
              "      <td>0.016474</td>\n",
              "    </tr>\n",
              "    <tr>\n",
              "      <th>3</th>\n",
              "      <td>1</td>\n",
              "      <td>0.399844</td>\n",
              "      <td>0.451265</td>\n",
              "      <td>0.457733</td>\n",
              "      <td>0.583541</td>\n",
              "      <td>0.583541</td>\n",
              "      <td>0.998700</td>\n",
              "      <td>0.796967</td>\n",
              "      <td>0.808966</td>\n",
              "      <td>0.303350</td>\n",
              "      <td>...</td>\n",
              "      <td>0.739555</td>\n",
              "      <td>0.003252</td>\n",
              "      <td>0.622929</td>\n",
              "      <td>0.583538</td>\n",
              "      <td>0.834697</td>\n",
              "      <td>0.281721</td>\n",
              "      <td>0.026697</td>\n",
              "      <td>0.564663</td>\n",
              "      <td>1</td>\n",
              "      <td>0.023982</td>\n",
              "    </tr>\n",
              "    <tr>\n",
              "      <th>4</th>\n",
              "      <td>1</td>\n",
              "      <td>0.465022</td>\n",
              "      <td>0.538432</td>\n",
              "      <td>0.522298</td>\n",
              "      <td>0.598783</td>\n",
              "      <td>0.598783</td>\n",
              "      <td>0.998973</td>\n",
              "      <td>0.797366</td>\n",
              "      <td>0.809304</td>\n",
              "      <td>0.303475</td>\n",
              "      <td>...</td>\n",
              "      <td>0.795016</td>\n",
              "      <td>0.003878</td>\n",
              "      <td>0.623521</td>\n",
              "      <td>0.598782</td>\n",
              "      <td>0.839973</td>\n",
              "      <td>0.278514</td>\n",
              "      <td>0.024752</td>\n",
              "      <td>0.575617</td>\n",
              "      <td>1</td>\n",
              "      <td>0.035490</td>\n",
              "    </tr>\n",
              "  </tbody>\n",
              "</table>\n",
              "<p>5 rows × 96 columns</p>\n",
              "</div>\n",
              "    <div class=\"colab-df-buttons\">\n",
              "\n",
              "  <div class=\"colab-df-container\">\n",
              "    <button class=\"colab-df-convert\" onclick=\"convertToInteractive('df-0ff0046d-f7fc-4365-888d-a269450c3bb5')\"\n",
              "            title=\"Convert this dataframe to an interactive table.\"\n",
              "            style=\"display:none;\">\n",
              "\n",
              "  <svg xmlns=\"http://www.w3.org/2000/svg\" height=\"24px\" viewBox=\"0 -960 960 960\">\n",
              "    <path d=\"M120-120v-720h720v720H120Zm60-500h600v-160H180v160Zm220 220h160v-160H400v160Zm0 220h160v-160H400v160ZM180-400h160v-160H180v160Zm440 0h160v-160H620v160ZM180-180h160v-160H180v160Zm440 0h160v-160H620v160Z\"/>\n",
              "  </svg>\n",
              "    </button>\n",
              "\n",
              "  <style>\n",
              "    .colab-df-container {\n",
              "      display:flex;\n",
              "      gap: 12px;\n",
              "    }\n",
              "\n",
              "    .colab-df-convert {\n",
              "      background-color: #E8F0FE;\n",
              "      border: none;\n",
              "      border-radius: 50%;\n",
              "      cursor: pointer;\n",
              "      display: none;\n",
              "      fill: #1967D2;\n",
              "      height: 32px;\n",
              "      padding: 0 0 0 0;\n",
              "      width: 32px;\n",
              "    }\n",
              "\n",
              "    .colab-df-convert:hover {\n",
              "      background-color: #E2EBFA;\n",
              "      box-shadow: 0px 1px 2px rgba(60, 64, 67, 0.3), 0px 1px 3px 1px rgba(60, 64, 67, 0.15);\n",
              "      fill: #174EA6;\n",
              "    }\n",
              "\n",
              "    .colab-df-buttons div {\n",
              "      margin-bottom: 4px;\n",
              "    }\n",
              "\n",
              "    [theme=dark] .colab-df-convert {\n",
              "      background-color: #3B4455;\n",
              "      fill: #D2E3FC;\n",
              "    }\n",
              "\n",
              "    [theme=dark] .colab-df-convert:hover {\n",
              "      background-color: #434B5C;\n",
              "      box-shadow: 0px 1px 3px 1px rgba(0, 0, 0, 0.15);\n",
              "      filter: drop-shadow(0px 1px 2px rgba(0, 0, 0, 0.3));\n",
              "      fill: #FFFFFF;\n",
              "    }\n",
              "  </style>\n",
              "\n",
              "    <script>\n",
              "      const buttonEl =\n",
              "        document.querySelector('#df-0ff0046d-f7fc-4365-888d-a269450c3bb5 button.colab-df-convert');\n",
              "      buttonEl.style.display =\n",
              "        google.colab.kernel.accessAllowed ? 'block' : 'none';\n",
              "\n",
              "      async function convertToInteractive(key) {\n",
              "        const element = document.querySelector('#df-0ff0046d-f7fc-4365-888d-a269450c3bb5');\n",
              "        const dataTable =\n",
              "          await google.colab.kernel.invokeFunction('convertToInteractive',\n",
              "                                                    [key], {});\n",
              "        if (!dataTable) return;\n",
              "\n",
              "        const docLinkHtml = 'Like what you see? Visit the ' +\n",
              "          '<a target=\"_blank\" href=https://colab.research.google.com/notebooks/data_table.ipynb>data table notebook</a>'\n",
              "          + ' to learn more about interactive tables.';\n",
              "        element.innerHTML = '';\n",
              "        dataTable['output_type'] = 'display_data';\n",
              "        await google.colab.output.renderOutput(dataTable, element);\n",
              "        const docLink = document.createElement('div');\n",
              "        docLink.innerHTML = docLinkHtml;\n",
              "        element.appendChild(docLink);\n",
              "      }\n",
              "    </script>\n",
              "  </div>\n",
              "\n",
              "\n",
              "<div id=\"df-aa4adc00-57d9-4282-b007-88f9e8ee2627\">\n",
              "  <button class=\"colab-df-quickchart\" onclick=\"quickchart('df-aa4adc00-57d9-4282-b007-88f9e8ee2627')\"\n",
              "            title=\"Suggest charts.\"\n",
              "            style=\"display:none;\">\n",
              "\n",
              "<svg xmlns=\"http://www.w3.org/2000/svg\" height=\"24px\"viewBox=\"0 0 24 24\"\n",
              "     width=\"24px\">\n",
              "    <g>\n",
              "        <path d=\"M19 3H5c-1.1 0-2 .9-2 2v14c0 1.1.9 2 2 2h14c1.1 0 2-.9 2-2V5c0-1.1-.9-2-2-2zM9 17H7v-7h2v7zm4 0h-2V7h2v10zm4 0h-2v-4h2v4z\"/>\n",
              "    </g>\n",
              "</svg>\n",
              "  </button>\n",
              "\n",
              "<style>\n",
              "  .colab-df-quickchart {\n",
              "      --bg-color: #E8F0FE;\n",
              "      --fill-color: #1967D2;\n",
              "      --hover-bg-color: #E2EBFA;\n",
              "      --hover-fill-color: #174EA6;\n",
              "      --disabled-fill-color: #AAA;\n",
              "      --disabled-bg-color: #DDD;\n",
              "  }\n",
              "\n",
              "  [theme=dark] .colab-df-quickchart {\n",
              "      --bg-color: #3B4455;\n",
              "      --fill-color: #D2E3FC;\n",
              "      --hover-bg-color: #434B5C;\n",
              "      --hover-fill-color: #FFFFFF;\n",
              "      --disabled-bg-color: #3B4455;\n",
              "      --disabled-fill-color: #666;\n",
              "  }\n",
              "\n",
              "  .colab-df-quickchart {\n",
              "    background-color: var(--bg-color);\n",
              "    border: none;\n",
              "    border-radius: 50%;\n",
              "    cursor: pointer;\n",
              "    display: none;\n",
              "    fill: var(--fill-color);\n",
              "    height: 32px;\n",
              "    padding: 0;\n",
              "    width: 32px;\n",
              "  }\n",
              "\n",
              "  .colab-df-quickchart:hover {\n",
              "    background-color: var(--hover-bg-color);\n",
              "    box-shadow: 0 1px 2px rgba(60, 64, 67, 0.3), 0 1px 3px 1px rgba(60, 64, 67, 0.15);\n",
              "    fill: var(--button-hover-fill-color);\n",
              "  }\n",
              "\n",
              "  .colab-df-quickchart-complete:disabled,\n",
              "  .colab-df-quickchart-complete:disabled:hover {\n",
              "    background-color: var(--disabled-bg-color);\n",
              "    fill: var(--disabled-fill-color);\n",
              "    box-shadow: none;\n",
              "  }\n",
              "\n",
              "  .colab-df-spinner {\n",
              "    border: 2px solid var(--fill-color);\n",
              "    border-color: transparent;\n",
              "    border-bottom-color: var(--fill-color);\n",
              "    animation:\n",
              "      spin 1s steps(1) infinite;\n",
              "  }\n",
              "\n",
              "  @keyframes spin {\n",
              "    0% {\n",
              "      border-color: transparent;\n",
              "      border-bottom-color: var(--fill-color);\n",
              "      border-left-color: var(--fill-color);\n",
              "    }\n",
              "    20% {\n",
              "      border-color: transparent;\n",
              "      border-left-color: var(--fill-color);\n",
              "      border-top-color: var(--fill-color);\n",
              "    }\n",
              "    30% {\n",
              "      border-color: transparent;\n",
              "      border-left-color: var(--fill-color);\n",
              "      border-top-color: var(--fill-color);\n",
              "      border-right-color: var(--fill-color);\n",
              "    }\n",
              "    40% {\n",
              "      border-color: transparent;\n",
              "      border-right-color: var(--fill-color);\n",
              "      border-top-color: var(--fill-color);\n",
              "    }\n",
              "    60% {\n",
              "      border-color: transparent;\n",
              "      border-right-color: var(--fill-color);\n",
              "    }\n",
              "    80% {\n",
              "      border-color: transparent;\n",
              "      border-right-color: var(--fill-color);\n",
              "      border-bottom-color: var(--fill-color);\n",
              "    }\n",
              "    90% {\n",
              "      border-color: transparent;\n",
              "      border-bottom-color: var(--fill-color);\n",
              "    }\n",
              "  }\n",
              "</style>\n",
              "\n",
              "  <script>\n",
              "    async function quickchart(key) {\n",
              "      const quickchartButtonEl =\n",
              "        document.querySelector('#' + key + ' button');\n",
              "      quickchartButtonEl.disabled = true;  // To prevent multiple clicks.\n",
              "      quickchartButtonEl.classList.add('colab-df-spinner');\n",
              "      try {\n",
              "        const charts = await google.colab.kernel.invokeFunction(\n",
              "            'suggestCharts', [key], {});\n",
              "      } catch (error) {\n",
              "        console.error('Error during call to suggestCharts:', error);\n",
              "      }\n",
              "      quickchartButtonEl.classList.remove('colab-df-spinner');\n",
              "      quickchartButtonEl.classList.add('colab-df-quickchart-complete');\n",
              "    }\n",
              "    (() => {\n",
              "      let quickchartButtonEl =\n",
              "        document.querySelector('#df-aa4adc00-57d9-4282-b007-88f9e8ee2627 button');\n",
              "      quickchartButtonEl.style.display =\n",
              "        google.colab.kernel.accessAllowed ? 'block' : 'none';\n",
              "    })();\n",
              "  </script>\n",
              "</div>\n",
              "    </div>\n",
              "  </div>\n"
            ]
          },
          "metadata": {},
          "execution_count": 72
        }
      ]
    },
    {
      "cell_type": "markdown",
      "source": [
        " # Attribute Information\n",
        "Column names and description to make the data easier to understand (Y = Output feature, X = Input features)\n",
        "\n",
        "Y - Bankrupt?: Class label\n",
        "\n",
        "X1 - ROA(C) before interest and depreciation before interest: Return On Total Assets(C)\n",
        "\n",
        "X2 - ROA(A) before interest and % after tax: Return On Total Assets(A)\n",
        "\n",
        "X3 - ROA(B) before interest and depreciation after tax: Return On Total Assets(B)\n",
        "\n",
        "X4 - Operating Gross Margin: Gross Profit/Net Sales\n",
        "\n",
        "X5 - Realized Sales Gross Margin: Realized Gross Profit/Net Sales\n",
        "\n",
        "X6 - Operating Profit Rate: Operating Income/Net Sales\n",
        "\n",
        "X7 - Pre-tax net Interest Rate: Pre-Tax Income/Net Sales\n",
        "\n",
        "X8 - After-tax net Interest Rate: Net Income/Net Sales\n",
        "\n",
        "X9 - Non-industry income and expenditure/revenue: Net Non-operating Income Ratio\n",
        "\n",
        "X10 - Continuous interest rate (after tax): Net Income-Exclude Disposal Gain or Loss/Net Sales\n",
        "\n",
        "X11 - Operating Expense Rate: Operating Expenses/Net Sales\n",
        "\n",
        "X12 - Research and development expense rate: (Research and Development Expenses)/Net Sales\n",
        "\n",
        "X13 - Cash flow rate: Cash Flow from Operating/Current Liabilities\n",
        "\n",
        "X14 - Interest-bearing debt interest rate: Interest-bearing Debt/Equity\n",
        "\n",
        "X15 - Tax rate (A): Effective Tax Rate\n",
        "\n",
        "X16 - Net Value Per Share (B): Book Value Per Share(B)\n",
        "\n",
        "X17 - Net Value Per Share (A): Book Value Per Share(A)\n",
        "\n",
        "X18 - Net Value Per Share (C): Book Value Per Share(C)\n",
        "\n",
        "X19 - Persistent EPS in the Last Four Seasons: EPS-Net Income\n",
        "\n",
        "X20 - Cash Flow Per Share\n",
        "\n",
        "X21 - Revenue Per Share (Yuan ¥): Sales Per Share\n",
        "\n",
        "X22 - Operating Profit Per Share (Yuan ¥): Operating Income Per Share\n",
        "\n",
        "X23 - Per Share Net profit before tax (Yuan ¥): Pretax Income Per Share\n",
        "\n",
        "X24 - Realized Sales Gross Profit Growth Rate\n",
        "\n",
        "X25 - Operating Profit Growth Rate: Operating Income Growth\n",
        "\n",
        "X26 - After-tax Net Profit Growth Rate: Net Income Growth\n",
        "\n",
        "X27 - Regular Net Profit Growth Rate: Continuing Operating Income after Tax Growth\n",
        "\n",
        "X28 - Continuous Net Profit Growth Rate: Net Income-Excluding Disposal Gain or Loss Growth\n",
        "\n",
        "X29 - Total Asset Growth Rate: Total Asset Growth\n",
        "\n",
        "X30 - Net Value Growth Rate: Total Equity Growth\n",
        "\n",
        "X31 - Total Asset Return Growth Rate Ratio: Return on Total Asset Growth\n",
        "\n",
        "X32 - Cash Reinvestment %: Cash Reinvestment Ratio\n",
        "\n",
        "X33 - Current Ratio\n",
        "\n",
        "X34 - Quick Ratio: Acid Test\n",
        "\n",
        "X35 - Interest Expense Ratio: Interest Expenses/Total Revenue\n",
        "\n",
        "X36 - Total debt/Total net worth: Total Liability/Equity Ratio\n",
        "\n",
        "X37 - Debt ratio %: Liability/Total Assets\n",
        "\n",
        "X38 - Net worth/Assets: Equity/Total Assets\n",
        "\n",
        "X39 - Long-term fund suitability ratio (A): (Long-term Liability+Equity)/Fixed Assets\n",
        "\n",
        "X40 - Borrowing dependency: Cost of Interest-bearing Debt\n",
        "\n",
        "X41 - Contingent liabilities/Net worth: Contingent Liability/Equity\n",
        "\n",
        "X42 - Operating profit/Paid-in capital: Operating Income/Capital\n",
        "\n",
        "X43 - Net profit before tax/Paid-in capital: Pretax Income/Capital\n",
        "\n",
        "X44 - Inventory and accounts receivable/Net value: (Inventory+Accounts Receivables)/Equity\n",
        "\n",
        "X45 - Total Asset Turnover\n",
        "\n",
        "X46 - Accounts Receivable Turnover\n",
        "\n",
        "X47 - Average Collection Days: Days Receivable Outstanding\n",
        "\n",
        "X48 - Inventory Turnover Rate (times)\n",
        "\n",
        "X49 - Fixed Assets Turnover Frequency\n",
        "\n",
        "X50 - Net Worth Turnover Rate (times): Equity Turnover\n",
        "\n",
        "X51 - Revenue per person: Sales Per Employee\n",
        "\n",
        "X52 - Operating profit per person: Operation Income Per Employee\n",
        "\n",
        "X53 - Allocation rate per person: Fixed Assets Per Employee\n",
        "\n",
        "X54 - Working Capital to Total Assets\n",
        "\n",
        "X55 - Quick Assets/Total Assets\n",
        "\n",
        "X56 - Current Assets/Total Assets\n",
        "\n",
        "X57 - Cash/Total Assets\n",
        "\n",
        "X58 - Quick Assets/Current Liability\n",
        "\n",
        "X59 - Cash/Current Liability\n",
        "\n",
        "X60 - Current Liability to Assets\n",
        "\n",
        "X61 - Operating Funds to Liability\n",
        "\n",
        "X62 - Inventory/Working Capital\n",
        "\n",
        "X63 - Inventory/Current Liability\n",
        "\n",
        "X64 - Current Liabilities/Liability\n",
        "\n",
        "X65 - Working Capital/Equity\n",
        "\n",
        "X66 - Current Liabilities/Equity\n",
        "\n",
        "X67 - Long-term Liability to Current Assets\n",
        "\n",
        "X68 - Retained Earnings to Total Assets\n",
        "\n",
        "X69 - Total income/Total expense\n",
        "\n",
        "X70 - Total expense/Assets\n",
        "\n",
        "X71 - Current Asset Turnover Rate: Current Assets to Sales\n",
        "\n",
        "X72 - Quick Asset Turnover Rate: Quick Assets to Sales\n",
        "\n",
        "X73 - Working capitcal Turnover Rate: Working Capital to Sales\n",
        "\n",
        "X74 - Cash Turnover Rate: Cash to Sales\n",
        "\n",
        "X75 - Cash Flow to Sales\n",
        "\n",
        "X76 - Fixed Assets to Assets\n",
        "\n",
        "X77 - Current Liability to Liability\n",
        "\n",
        "X78 - Current Liability to Equity\n",
        "\n",
        "X79 - Equity to Long-term Liability\n",
        "\n",
        "X80 - Cash Flow to Total Assets\n",
        "\n",
        "X81 - Cash Flow to Liability\n",
        "\n",
        "X82 - CFO to Assets\n",
        "\n",
        "X83 - Cash Flow to Equity\n",
        "\n",
        "X84 - Current Liability to Current Assets\n",
        "\n",
        "X85 - Liability-Assets Flag: 1 if Total Liability exceeds Total Assets, 0 otherwise\n",
        "\n",
        "X86 - Net Income to Total Assets\n",
        "\n",
        "X87 - Total assets to GNP price\n",
        "\n",
        "X88 - No-credit Interval\n",
        "\n",
        "X89 - Gross Profit to Sales\n",
        "\n",
        "X90 - Net Income to Stockholder's Equity\n",
        "\n",
        "X91 - Liability to Equity\n",
        "\n",
        "X92 - Degree of Financial Leverage (DFL)\n",
        "\n",
        "X93 - Interest Coverage Ratio (Interest expense to EBIT)\n",
        "\n",
        "X94 - Net Income Flag: 1 if Net Income is Negative for the last two years, 0 otherwise\n",
        "\n",
        "X95 - Equity to Liability"
      ],
      "metadata": {
        "id": "tiqHs2fKRIQ5"
      }
    },
    {
      "cell_type": "code",
      "source": [
        "# Displaying a summary of the 'bankruptcy_df' DataFrame\n",
        "bankruptcy_df.info()"
      ],
      "metadata": {
        "id": "T3-0IiaAQEmN",
        "colab": {
          "base_uri": "https://localhost:8080/"
        },
        "outputId": "979b35d8-97b5-4e5a-abc3-e14595a1f4b2"
      },
      "execution_count": 3,
      "outputs": [
        {
          "output_type": "stream",
          "name": "stdout",
          "text": [
            "<class 'pandas.core.frame.DataFrame'>\n",
            "RangeIndex: 6819 entries, 0 to 6818\n",
            "Data columns (total 96 columns):\n",
            " #   Column                                                    Non-Null Count  Dtype  \n",
            "---  ------                                                    --------------  -----  \n",
            " 0   Bankrupt?                                                 6819 non-null   int64  \n",
            " 1    ROA(C) before interest and depreciation before interest  6819 non-null   float64\n",
            " 2    ROA(A) before interest and % after tax                   6819 non-null   float64\n",
            " 3    ROA(B) before interest and depreciation after tax        6819 non-null   float64\n",
            " 4    Operating Gross Margin                                   6819 non-null   float64\n",
            " 5    Realized Sales Gross Margin                              6819 non-null   float64\n",
            " 6    Operating Profit Rate                                    6819 non-null   float64\n",
            " 7    Pre-tax net Interest Rate                                6819 non-null   float64\n",
            " 8    After-tax net Interest Rate                              6819 non-null   float64\n",
            " 9    Non-industry income and expenditure/revenue              6819 non-null   float64\n",
            " 10   Continuous interest rate (after tax)                     6819 non-null   float64\n",
            " 11   Operating Expense Rate                                   6819 non-null   float64\n",
            " 12   Research and development expense rate                    6819 non-null   float64\n",
            " 13   Cash flow rate                                           6819 non-null   float64\n",
            " 14   Interest-bearing debt interest rate                      6819 non-null   float64\n",
            " 15   Tax rate (A)                                             6819 non-null   float64\n",
            " 16   Net Value Per Share (B)                                  6819 non-null   float64\n",
            " 17   Net Value Per Share (A)                                  6819 non-null   float64\n",
            " 18   Net Value Per Share (C)                                  6819 non-null   float64\n",
            " 19   Persistent EPS in the Last Four Seasons                  6819 non-null   float64\n",
            " 20   Cash Flow Per Share                                      6819 non-null   float64\n",
            " 21   Revenue Per Share (Yuan ¥)                               6819 non-null   float64\n",
            " 22   Operating Profit Per Share (Yuan ¥)                      6819 non-null   float64\n",
            " 23   Per Share Net profit before tax (Yuan ¥)                 6819 non-null   float64\n",
            " 24   Realized Sales Gross Profit Growth Rate                  6819 non-null   float64\n",
            " 25   Operating Profit Growth Rate                             6819 non-null   float64\n",
            " 26   After-tax Net Profit Growth Rate                         6819 non-null   float64\n",
            " 27   Regular Net Profit Growth Rate                           6819 non-null   float64\n",
            " 28   Continuous Net Profit Growth Rate                        6819 non-null   float64\n",
            " 29   Total Asset Growth Rate                                  6819 non-null   float64\n",
            " 30   Net Value Growth Rate                                    6819 non-null   float64\n",
            " 31   Total Asset Return Growth Rate Ratio                     6819 non-null   float64\n",
            " 32   Cash Reinvestment %                                      6819 non-null   float64\n",
            " 33   Current Ratio                                            6819 non-null   float64\n",
            " 34   Quick Ratio                                              6819 non-null   float64\n",
            " 35   Interest Expense Ratio                                   6819 non-null   float64\n",
            " 36   Total debt/Total net worth                               6819 non-null   float64\n",
            " 37   Debt ratio %                                             6819 non-null   float64\n",
            " 38   Net worth/Assets                                         6819 non-null   float64\n",
            " 39   Long-term fund suitability ratio (A)                     6819 non-null   float64\n",
            " 40   Borrowing dependency                                     6819 non-null   float64\n",
            " 41   Contingent liabilities/Net worth                         6819 non-null   float64\n",
            " 42   Operating profit/Paid-in capital                         6819 non-null   float64\n",
            " 43   Net profit before tax/Paid-in capital                    6819 non-null   float64\n",
            " 44   Inventory and accounts receivable/Net value              6819 non-null   float64\n",
            " 45   Total Asset Turnover                                     6819 non-null   float64\n",
            " 46   Accounts Receivable Turnover                             6819 non-null   float64\n",
            " 47   Average Collection Days                                  6819 non-null   float64\n",
            " 48   Inventory Turnover Rate (times)                          6819 non-null   float64\n",
            " 49   Fixed Assets Turnover Frequency                          6819 non-null   float64\n",
            " 50   Net Worth Turnover Rate (times)                          6819 non-null   float64\n",
            " 51   Revenue per person                                       6819 non-null   float64\n",
            " 52   Operating profit per person                              6819 non-null   float64\n",
            " 53   Allocation rate per person                               6819 non-null   float64\n",
            " 54   Working Capital to Total Assets                          6819 non-null   float64\n",
            " 55   Quick Assets/Total Assets                                6819 non-null   float64\n",
            " 56   Current Assets/Total Assets                              6819 non-null   float64\n",
            " 57   Cash/Total Assets                                        6819 non-null   float64\n",
            " 58   Quick Assets/Current Liability                           6819 non-null   float64\n",
            " 59   Cash/Current Liability                                   6819 non-null   float64\n",
            " 60   Current Liability to Assets                              6819 non-null   float64\n",
            " 61   Operating Funds to Liability                             6819 non-null   float64\n",
            " 62   Inventory/Working Capital                                6819 non-null   float64\n",
            " 63   Inventory/Current Liability                              6819 non-null   float64\n",
            " 64   Current Liabilities/Liability                            6819 non-null   float64\n",
            " 65   Working Capital/Equity                                   6819 non-null   float64\n",
            " 66   Current Liabilities/Equity                               6819 non-null   float64\n",
            " 67   Long-term Liability to Current Assets                    6819 non-null   float64\n",
            " 68   Retained Earnings to Total Assets                        6819 non-null   float64\n",
            " 69   Total income/Total expense                               6819 non-null   float64\n",
            " 70   Total expense/Assets                                     6819 non-null   float64\n",
            " 71   Current Asset Turnover Rate                              6819 non-null   float64\n",
            " 72   Quick Asset Turnover Rate                                6819 non-null   float64\n",
            " 73   Working capitcal Turnover Rate                           6819 non-null   float64\n",
            " 74   Cash Turnover Rate                                       6819 non-null   float64\n",
            " 75   Cash Flow to Sales                                       6819 non-null   float64\n",
            " 76   Fixed Assets to Assets                                   6819 non-null   float64\n",
            " 77   Current Liability to Liability                           6819 non-null   float64\n",
            " 78   Current Liability to Equity                              6819 non-null   float64\n",
            " 79   Equity to Long-term Liability                            6819 non-null   float64\n",
            " 80   Cash Flow to Total Assets                                6819 non-null   float64\n",
            " 81   Cash Flow to Liability                                   6819 non-null   float64\n",
            " 82   CFO to Assets                                            6819 non-null   float64\n",
            " 83   Cash Flow to Equity                                      6819 non-null   float64\n",
            " 84   Current Liability to Current Assets                      6819 non-null   float64\n",
            " 85   Liability-Assets Flag                                    6819 non-null   int64  \n",
            " 86   Net Income to Total Assets                               6819 non-null   float64\n",
            " 87   Total assets to GNP price                                6819 non-null   float64\n",
            " 88   No-credit Interval                                       6819 non-null   float64\n",
            " 89   Gross Profit to Sales                                    6819 non-null   float64\n",
            " 90   Net Income to Stockholder's Equity                       6819 non-null   float64\n",
            " 91   Liability to Equity                                      6819 non-null   float64\n",
            " 92   Degree of Financial Leverage (DFL)                       6819 non-null   float64\n",
            " 93   Interest Coverage Ratio (Interest expense to EBIT)       6819 non-null   float64\n",
            " 94   Net Income Flag                                          6819 non-null   int64  \n",
            " 95   Equity to Liability                                      6819 non-null   float64\n",
            "dtypes: float64(93), int64(3)\n",
            "memory usage: 5.0 MB\n"
          ]
        }
      ]
    },
    {
      "cell_type": "code",
      "source": [
        "# Determine the number of unique values in each column.\n",
        "bankruptcy_df.nunique()"
      ],
      "metadata": {
        "colab": {
          "base_uri": "https://localhost:8080/"
        },
        "id": "u5mRSdLBQEtp",
        "outputId": "1dc3a671-31c1-453f-aecd-b1dcabf59b33"
      },
      "execution_count": 4,
      "outputs": [
        {
          "output_type": "execute_result",
          "data": {
            "text/plain": [
              "Bankrupt?                                                      2\n",
              " ROA(C) before interest and depreciation before interest    3333\n",
              " ROA(A) before interest and % after tax                     3151\n",
              " ROA(B) before interest and depreciation after tax          3160\n",
              " Operating Gross Margin                                     3781\n",
              "                                                            ... \n",
              " Liability to Equity                                        6814\n",
              " Degree of Financial Leverage (DFL)                         6106\n",
              " Interest Coverage Ratio (Interest expense to EBIT)         6211\n",
              " Net Income Flag                                               1\n",
              " Equity to Liability                                        6819\n",
              "Length: 96, dtype: int64"
            ]
          },
          "metadata": {},
          "execution_count": 4
        }
      ]
    },
    {
      "cell_type": "code",
      "source": [
        "# Verify missing values\n",
        "missing_values = bankruptcy_df.isnull().sum()\n",
        "print(missing_values)"
      ],
      "metadata": {
        "colab": {
          "base_uri": "https://localhost:8080/"
        },
        "id": "JoZ6bKCEQE1L",
        "outputId": "81327915-4c6a-4423-cabd-e75ec62018e5"
      },
      "execution_count": 5,
      "outputs": [
        {
          "output_type": "stream",
          "name": "stdout",
          "text": [
            "Bankrupt?                                                   0\n",
            " ROA(C) before interest and depreciation before interest    0\n",
            " ROA(A) before interest and % after tax                     0\n",
            " ROA(B) before interest and depreciation after tax          0\n",
            " Operating Gross Margin                                     0\n",
            "                                                           ..\n",
            " Liability to Equity                                        0\n",
            " Degree of Financial Leverage (DFL)                         0\n",
            " Interest Coverage Ratio (Interest expense to EBIT)         0\n",
            " Net Income Flag                                            0\n",
            " Equity to Liability                                        0\n",
            "Length: 96, dtype: int64\n"
          ]
        }
      ]
    },
    {
      "cell_type": "code",
      "source": [
        "# Remove whitespaces from column names\n",
        "bankruptcy_df.columns = bankruptcy_df.columns.str.replace(' ', '')\n",
        "\n",
        "# Remove whitespaces from values in the DataFrame\n",
        "bankruptcy_df = bankruptcy_df.applymap(lambda x: x.strip() if isinstance(x, str) else x)\n",
        "\n",
        "bankruptcy_df.head()\n"
      ],
      "metadata": {
        "colab": {
          "base_uri": "https://localhost:8080/",
          "height": 273
        },
        "id": "l8qfOFTyV-p5",
        "outputId": "d31d3399-c08d-429e-eb37-1cd8f8529b7d"
      },
      "execution_count": 73,
      "outputs": [
        {
          "output_type": "execute_result",
          "data": {
            "text/plain": [
              "   Bankrupt?  ROA(C)beforeinterestanddepreciationbeforeinterest  \\\n",
              "0          1                                           0.370594   \n",
              "1          1                                           0.464291   \n",
              "2          1                                           0.426071   \n",
              "3          1                                           0.399844   \n",
              "4          1                                           0.465022   \n",
              "\n",
              "   ROA(A)beforeinterestand%aftertax  \\\n",
              "0                          0.424389   \n",
              "1                          0.538214   \n",
              "2                          0.499019   \n",
              "3                          0.451265   \n",
              "4                          0.538432   \n",
              "\n",
              "   ROA(B)beforeinterestanddepreciationaftertax  OperatingGrossMargin  \\\n",
              "0                                     0.405750              0.601457   \n",
              "1                                     0.516730              0.610235   \n",
              "2                                     0.472295              0.601450   \n",
              "3                                     0.457733              0.583541   \n",
              "4                                     0.522298              0.598783   \n",
              "\n",
              "   RealizedSalesGrossMargin  OperatingProfitRate  Pre-taxnetInterestRate  \\\n",
              "0                  0.601457             0.998969                0.796887   \n",
              "1                  0.610235             0.998946                0.797380   \n",
              "2                  0.601364             0.998857                0.796403   \n",
              "3                  0.583541             0.998700                0.796967   \n",
              "4                  0.598783             0.998973                0.797366   \n",
              "\n",
              "   After-taxnetInterestRate  Non-industryincomeandexpenditure/revenue  ...  \\\n",
              "0                  0.808809                                  0.302646  ...   \n",
              "1                  0.809301                                  0.303556  ...   \n",
              "2                  0.808388                                  0.302035  ...   \n",
              "3                  0.808966                                  0.303350  ...   \n",
              "4                  0.809304                                  0.303475  ...   \n",
              "\n",
              "   NetIncometoTotalAssets  TotalassetstoGNPprice  No-creditInterval  \\\n",
              "0                0.716845               0.009219           0.622879   \n",
              "1                0.795297               0.008323           0.623652   \n",
              "2                0.774670               0.040003           0.623841   \n",
              "3                0.739555               0.003252           0.622929   \n",
              "4                0.795016               0.003878           0.623521   \n",
              "\n",
              "   GrossProfittoSales  NetIncometoStockholder'sEquity  LiabilitytoEquity  \\\n",
              "0            0.601453                        0.827890           0.290202   \n",
              "1            0.610237                        0.839969           0.283846   \n",
              "2            0.601449                        0.836774           0.290189   \n",
              "3            0.583538                        0.834697           0.281721   \n",
              "4            0.598782                        0.839973           0.278514   \n",
              "\n",
              "   DegreeofFinancialLeverage(DFL)  \\\n",
              "0                        0.026601   \n",
              "1                        0.264577   \n",
              "2                        0.026555   \n",
              "3                        0.026697   \n",
              "4                        0.024752   \n",
              "\n",
              "   InterestCoverageRatio(InterestexpensetoEBIT)  NetIncomeFlag  \\\n",
              "0                                      0.564050              1   \n",
              "1                                      0.570175              1   \n",
              "2                                      0.563706              1   \n",
              "3                                      0.564663              1   \n",
              "4                                      0.575617              1   \n",
              "\n",
              "   EquitytoLiability  \n",
              "0           0.016469  \n",
              "1           0.020794  \n",
              "2           0.016474  \n",
              "3           0.023982  \n",
              "4           0.035490  \n",
              "\n",
              "[5 rows x 96 columns]"
            ],
            "text/html": [
              "\n",
              "  <div id=\"df-d5c457e2-0a4a-4d96-9924-f9e54972e9cb\" class=\"colab-df-container\">\n",
              "    <div>\n",
              "<style scoped>\n",
              "    .dataframe tbody tr th:only-of-type {\n",
              "        vertical-align: middle;\n",
              "    }\n",
              "\n",
              "    .dataframe tbody tr th {\n",
              "        vertical-align: top;\n",
              "    }\n",
              "\n",
              "    .dataframe thead th {\n",
              "        text-align: right;\n",
              "    }\n",
              "</style>\n",
              "<table border=\"1\" class=\"dataframe\">\n",
              "  <thead>\n",
              "    <tr style=\"text-align: right;\">\n",
              "      <th></th>\n",
              "      <th>Bankrupt?</th>\n",
              "      <th>ROA(C)beforeinterestanddepreciationbeforeinterest</th>\n",
              "      <th>ROA(A)beforeinterestand%aftertax</th>\n",
              "      <th>ROA(B)beforeinterestanddepreciationaftertax</th>\n",
              "      <th>OperatingGrossMargin</th>\n",
              "      <th>RealizedSalesGrossMargin</th>\n",
              "      <th>OperatingProfitRate</th>\n",
              "      <th>Pre-taxnetInterestRate</th>\n",
              "      <th>After-taxnetInterestRate</th>\n",
              "      <th>Non-industryincomeandexpenditure/revenue</th>\n",
              "      <th>...</th>\n",
              "      <th>NetIncometoTotalAssets</th>\n",
              "      <th>TotalassetstoGNPprice</th>\n",
              "      <th>No-creditInterval</th>\n",
              "      <th>GrossProfittoSales</th>\n",
              "      <th>NetIncometoStockholder'sEquity</th>\n",
              "      <th>LiabilitytoEquity</th>\n",
              "      <th>DegreeofFinancialLeverage(DFL)</th>\n",
              "      <th>InterestCoverageRatio(InterestexpensetoEBIT)</th>\n",
              "      <th>NetIncomeFlag</th>\n",
              "      <th>EquitytoLiability</th>\n",
              "    </tr>\n",
              "  </thead>\n",
              "  <tbody>\n",
              "    <tr>\n",
              "      <th>0</th>\n",
              "      <td>1</td>\n",
              "      <td>0.370594</td>\n",
              "      <td>0.424389</td>\n",
              "      <td>0.405750</td>\n",
              "      <td>0.601457</td>\n",
              "      <td>0.601457</td>\n",
              "      <td>0.998969</td>\n",
              "      <td>0.796887</td>\n",
              "      <td>0.808809</td>\n",
              "      <td>0.302646</td>\n",
              "      <td>...</td>\n",
              "      <td>0.716845</td>\n",
              "      <td>0.009219</td>\n",
              "      <td>0.622879</td>\n",
              "      <td>0.601453</td>\n",
              "      <td>0.827890</td>\n",
              "      <td>0.290202</td>\n",
              "      <td>0.026601</td>\n",
              "      <td>0.564050</td>\n",
              "      <td>1</td>\n",
              "      <td>0.016469</td>\n",
              "    </tr>\n",
              "    <tr>\n",
              "      <th>1</th>\n",
              "      <td>1</td>\n",
              "      <td>0.464291</td>\n",
              "      <td>0.538214</td>\n",
              "      <td>0.516730</td>\n",
              "      <td>0.610235</td>\n",
              "      <td>0.610235</td>\n",
              "      <td>0.998946</td>\n",
              "      <td>0.797380</td>\n",
              "      <td>0.809301</td>\n",
              "      <td>0.303556</td>\n",
              "      <td>...</td>\n",
              "      <td>0.795297</td>\n",
              "      <td>0.008323</td>\n",
              "      <td>0.623652</td>\n",
              "      <td>0.610237</td>\n",
              "      <td>0.839969</td>\n",
              "      <td>0.283846</td>\n",
              "      <td>0.264577</td>\n",
              "      <td>0.570175</td>\n",
              "      <td>1</td>\n",
              "      <td>0.020794</td>\n",
              "    </tr>\n",
              "    <tr>\n",
              "      <th>2</th>\n",
              "      <td>1</td>\n",
              "      <td>0.426071</td>\n",
              "      <td>0.499019</td>\n",
              "      <td>0.472295</td>\n",
              "      <td>0.601450</td>\n",
              "      <td>0.601364</td>\n",
              "      <td>0.998857</td>\n",
              "      <td>0.796403</td>\n",
              "      <td>0.808388</td>\n",
              "      <td>0.302035</td>\n",
              "      <td>...</td>\n",
              "      <td>0.774670</td>\n",
              "      <td>0.040003</td>\n",
              "      <td>0.623841</td>\n",
              "      <td>0.601449</td>\n",
              "      <td>0.836774</td>\n",
              "      <td>0.290189</td>\n",
              "      <td>0.026555</td>\n",
              "      <td>0.563706</td>\n",
              "      <td>1</td>\n",
              "      <td>0.016474</td>\n",
              "    </tr>\n",
              "    <tr>\n",
              "      <th>3</th>\n",
              "      <td>1</td>\n",
              "      <td>0.399844</td>\n",
              "      <td>0.451265</td>\n",
              "      <td>0.457733</td>\n",
              "      <td>0.583541</td>\n",
              "      <td>0.583541</td>\n",
              "      <td>0.998700</td>\n",
              "      <td>0.796967</td>\n",
              "      <td>0.808966</td>\n",
              "      <td>0.303350</td>\n",
              "      <td>...</td>\n",
              "      <td>0.739555</td>\n",
              "      <td>0.003252</td>\n",
              "      <td>0.622929</td>\n",
              "      <td>0.583538</td>\n",
              "      <td>0.834697</td>\n",
              "      <td>0.281721</td>\n",
              "      <td>0.026697</td>\n",
              "      <td>0.564663</td>\n",
              "      <td>1</td>\n",
              "      <td>0.023982</td>\n",
              "    </tr>\n",
              "    <tr>\n",
              "      <th>4</th>\n",
              "      <td>1</td>\n",
              "      <td>0.465022</td>\n",
              "      <td>0.538432</td>\n",
              "      <td>0.522298</td>\n",
              "      <td>0.598783</td>\n",
              "      <td>0.598783</td>\n",
              "      <td>0.998973</td>\n",
              "      <td>0.797366</td>\n",
              "      <td>0.809304</td>\n",
              "      <td>0.303475</td>\n",
              "      <td>...</td>\n",
              "      <td>0.795016</td>\n",
              "      <td>0.003878</td>\n",
              "      <td>0.623521</td>\n",
              "      <td>0.598782</td>\n",
              "      <td>0.839973</td>\n",
              "      <td>0.278514</td>\n",
              "      <td>0.024752</td>\n",
              "      <td>0.575617</td>\n",
              "      <td>1</td>\n",
              "      <td>0.035490</td>\n",
              "    </tr>\n",
              "  </tbody>\n",
              "</table>\n",
              "<p>5 rows × 96 columns</p>\n",
              "</div>\n",
              "    <div class=\"colab-df-buttons\">\n",
              "\n",
              "  <div class=\"colab-df-container\">\n",
              "    <button class=\"colab-df-convert\" onclick=\"convertToInteractive('df-d5c457e2-0a4a-4d96-9924-f9e54972e9cb')\"\n",
              "            title=\"Convert this dataframe to an interactive table.\"\n",
              "            style=\"display:none;\">\n",
              "\n",
              "  <svg xmlns=\"http://www.w3.org/2000/svg\" height=\"24px\" viewBox=\"0 -960 960 960\">\n",
              "    <path d=\"M120-120v-720h720v720H120Zm60-500h600v-160H180v160Zm220 220h160v-160H400v160Zm0 220h160v-160H400v160ZM180-400h160v-160H180v160Zm440 0h160v-160H620v160ZM180-180h160v-160H180v160Zm440 0h160v-160H620v160Z\"/>\n",
              "  </svg>\n",
              "    </button>\n",
              "\n",
              "  <style>\n",
              "    .colab-df-container {\n",
              "      display:flex;\n",
              "      gap: 12px;\n",
              "    }\n",
              "\n",
              "    .colab-df-convert {\n",
              "      background-color: #E8F0FE;\n",
              "      border: none;\n",
              "      border-radius: 50%;\n",
              "      cursor: pointer;\n",
              "      display: none;\n",
              "      fill: #1967D2;\n",
              "      height: 32px;\n",
              "      padding: 0 0 0 0;\n",
              "      width: 32px;\n",
              "    }\n",
              "\n",
              "    .colab-df-convert:hover {\n",
              "      background-color: #E2EBFA;\n",
              "      box-shadow: 0px 1px 2px rgba(60, 64, 67, 0.3), 0px 1px 3px 1px rgba(60, 64, 67, 0.15);\n",
              "      fill: #174EA6;\n",
              "    }\n",
              "\n",
              "    .colab-df-buttons div {\n",
              "      margin-bottom: 4px;\n",
              "    }\n",
              "\n",
              "    [theme=dark] .colab-df-convert {\n",
              "      background-color: #3B4455;\n",
              "      fill: #D2E3FC;\n",
              "    }\n",
              "\n",
              "    [theme=dark] .colab-df-convert:hover {\n",
              "      background-color: #434B5C;\n",
              "      box-shadow: 0px 1px 3px 1px rgba(0, 0, 0, 0.15);\n",
              "      filter: drop-shadow(0px 1px 2px rgba(0, 0, 0, 0.3));\n",
              "      fill: #FFFFFF;\n",
              "    }\n",
              "  </style>\n",
              "\n",
              "    <script>\n",
              "      const buttonEl =\n",
              "        document.querySelector('#df-d5c457e2-0a4a-4d96-9924-f9e54972e9cb button.colab-df-convert');\n",
              "      buttonEl.style.display =\n",
              "        google.colab.kernel.accessAllowed ? 'block' : 'none';\n",
              "\n",
              "      async function convertToInteractive(key) {\n",
              "        const element = document.querySelector('#df-d5c457e2-0a4a-4d96-9924-f9e54972e9cb');\n",
              "        const dataTable =\n",
              "          await google.colab.kernel.invokeFunction('convertToInteractive',\n",
              "                                                    [key], {});\n",
              "        if (!dataTable) return;\n",
              "\n",
              "        const docLinkHtml = 'Like what you see? Visit the ' +\n",
              "          '<a target=\"_blank\" href=https://colab.research.google.com/notebooks/data_table.ipynb>data table notebook</a>'\n",
              "          + ' to learn more about interactive tables.';\n",
              "        element.innerHTML = '';\n",
              "        dataTable['output_type'] = 'display_data';\n",
              "        await google.colab.output.renderOutput(dataTable, element);\n",
              "        const docLink = document.createElement('div');\n",
              "        docLink.innerHTML = docLinkHtml;\n",
              "        element.appendChild(docLink);\n",
              "      }\n",
              "    </script>\n",
              "  </div>\n",
              "\n",
              "\n",
              "<div id=\"df-db43df35-ea39-4618-ac84-dd8914379f3e\">\n",
              "  <button class=\"colab-df-quickchart\" onclick=\"quickchart('df-db43df35-ea39-4618-ac84-dd8914379f3e')\"\n",
              "            title=\"Suggest charts.\"\n",
              "            style=\"display:none;\">\n",
              "\n",
              "<svg xmlns=\"http://www.w3.org/2000/svg\" height=\"24px\"viewBox=\"0 0 24 24\"\n",
              "     width=\"24px\">\n",
              "    <g>\n",
              "        <path d=\"M19 3H5c-1.1 0-2 .9-2 2v14c0 1.1.9 2 2 2h14c1.1 0 2-.9 2-2V5c0-1.1-.9-2-2-2zM9 17H7v-7h2v7zm4 0h-2V7h2v10zm4 0h-2v-4h2v4z\"/>\n",
              "    </g>\n",
              "</svg>\n",
              "  </button>\n",
              "\n",
              "<style>\n",
              "  .colab-df-quickchart {\n",
              "      --bg-color: #E8F0FE;\n",
              "      --fill-color: #1967D2;\n",
              "      --hover-bg-color: #E2EBFA;\n",
              "      --hover-fill-color: #174EA6;\n",
              "      --disabled-fill-color: #AAA;\n",
              "      --disabled-bg-color: #DDD;\n",
              "  }\n",
              "\n",
              "  [theme=dark] .colab-df-quickchart {\n",
              "      --bg-color: #3B4455;\n",
              "      --fill-color: #D2E3FC;\n",
              "      --hover-bg-color: #434B5C;\n",
              "      --hover-fill-color: #FFFFFF;\n",
              "      --disabled-bg-color: #3B4455;\n",
              "      --disabled-fill-color: #666;\n",
              "  }\n",
              "\n",
              "  .colab-df-quickchart {\n",
              "    background-color: var(--bg-color);\n",
              "    border: none;\n",
              "    border-radius: 50%;\n",
              "    cursor: pointer;\n",
              "    display: none;\n",
              "    fill: var(--fill-color);\n",
              "    height: 32px;\n",
              "    padding: 0;\n",
              "    width: 32px;\n",
              "  }\n",
              "\n",
              "  .colab-df-quickchart:hover {\n",
              "    background-color: var(--hover-bg-color);\n",
              "    box-shadow: 0 1px 2px rgba(60, 64, 67, 0.3), 0 1px 3px 1px rgba(60, 64, 67, 0.15);\n",
              "    fill: var(--button-hover-fill-color);\n",
              "  }\n",
              "\n",
              "  .colab-df-quickchart-complete:disabled,\n",
              "  .colab-df-quickchart-complete:disabled:hover {\n",
              "    background-color: var(--disabled-bg-color);\n",
              "    fill: var(--disabled-fill-color);\n",
              "    box-shadow: none;\n",
              "  }\n",
              "\n",
              "  .colab-df-spinner {\n",
              "    border: 2px solid var(--fill-color);\n",
              "    border-color: transparent;\n",
              "    border-bottom-color: var(--fill-color);\n",
              "    animation:\n",
              "      spin 1s steps(1) infinite;\n",
              "  }\n",
              "\n",
              "  @keyframes spin {\n",
              "    0% {\n",
              "      border-color: transparent;\n",
              "      border-bottom-color: var(--fill-color);\n",
              "      border-left-color: var(--fill-color);\n",
              "    }\n",
              "    20% {\n",
              "      border-color: transparent;\n",
              "      border-left-color: var(--fill-color);\n",
              "      border-top-color: var(--fill-color);\n",
              "    }\n",
              "    30% {\n",
              "      border-color: transparent;\n",
              "      border-left-color: var(--fill-color);\n",
              "      border-top-color: var(--fill-color);\n",
              "      border-right-color: var(--fill-color);\n",
              "    }\n",
              "    40% {\n",
              "      border-color: transparent;\n",
              "      border-right-color: var(--fill-color);\n",
              "      border-top-color: var(--fill-color);\n",
              "    }\n",
              "    60% {\n",
              "      border-color: transparent;\n",
              "      border-right-color: var(--fill-color);\n",
              "    }\n",
              "    80% {\n",
              "      border-color: transparent;\n",
              "      border-right-color: var(--fill-color);\n",
              "      border-bottom-color: var(--fill-color);\n",
              "    }\n",
              "    90% {\n",
              "      border-color: transparent;\n",
              "      border-bottom-color: var(--fill-color);\n",
              "    }\n",
              "  }\n",
              "</style>\n",
              "\n",
              "  <script>\n",
              "    async function quickchart(key) {\n",
              "      const quickchartButtonEl =\n",
              "        document.querySelector('#' + key + ' button');\n",
              "      quickchartButtonEl.disabled = true;  // To prevent multiple clicks.\n",
              "      quickchartButtonEl.classList.add('colab-df-spinner');\n",
              "      try {\n",
              "        const charts = await google.colab.kernel.invokeFunction(\n",
              "            'suggestCharts', [key], {});\n",
              "      } catch (error) {\n",
              "        console.error('Error during call to suggestCharts:', error);\n",
              "      }\n",
              "      quickchartButtonEl.classList.remove('colab-df-spinner');\n",
              "      quickchartButtonEl.classList.add('colab-df-quickchart-complete');\n",
              "    }\n",
              "    (() => {\n",
              "      let quickchartButtonEl =\n",
              "        document.querySelector('#df-db43df35-ea39-4618-ac84-dd8914379f3e button');\n",
              "      quickchartButtonEl.style.display =\n",
              "        google.colab.kernel.accessAllowed ? 'block' : 'none';\n",
              "    })();\n",
              "  </script>\n",
              "</div>\n",
              "    </div>\n",
              "  </div>\n"
            ]
          },
          "metadata": {},
          "execution_count": 73
        }
      ]
    },
    {
      "cell_type": "code",
      "source": [
        "# Find duplicate values\n",
        "duplicate_values = bankruptcy_df[bankruptcy_df.duplicated()]\n",
        "\n",
        "# Check if there are any duplicates\n",
        "if duplicate_values.empty:\n",
        "  print(\"There are no duplicates in the DataFrame.\")\n",
        "else:\n",
        "  print(\"There are duplicates in the DataFrame\")"
      ],
      "metadata": {
        "colab": {
          "base_uri": "https://localhost:8080/"
        },
        "id": "q7S58Ozhjwqy",
        "outputId": "e5b2e193-9182-466f-d6d9-cd33eb23496f"
      },
      "execution_count": 74,
      "outputs": [
        {
          "output_type": "stream",
          "name": "stdout",
          "text": [
            "There are no duplicates in the DataFrame.\n"
          ]
        }
      ]
    },
    {
      "cell_type": "markdown",
      "source": [
        "# Logistic Regression\n"
      ],
      "metadata": {
        "id": "DAc7HfNgTZh7"
      }
    },
    {
      "cell_type": "code",
      "source": [
        "from sklearn.model_selection import train_test_split\n",
        "from sklearn.linear_model import LogisticRegression\n",
        "from sklearn.metrics import classification_report\n",
        "from sklearn.metrics import accuracy_score\n",
        "from sklearn.preprocessing import StandardScaler\n",
        "\n",
        "import pydotplus\n",
        "from IPython.display import Image"
      ],
      "metadata": {
        "id": "pB4njN-CQE4Y"
      },
      "execution_count": 75,
      "outputs": []
    },
    {
      "cell_type": "code",
      "source": [
        "# Split the data into X (features) and y (target)\n",
        "\n",
        "# The y variable should focus on the target column\n",
        "y = bankruptcy_df['Bankrupt?']\n",
        "\n",
        "# The X variable should include all features except the target\n",
        "X = bankruptcy_df.drop(columns='Bankrupt?', axis=1)\n"
      ],
      "metadata": {
        "id": "5HBqStYXUkk6"
      },
      "execution_count": 76,
      "outputs": []
    },
    {
      "cell_type": "code",
      "source": [
        "# Identify the variable\n",
        "X.head()\n",
        "X.tail()\n",
        "y.head()\n",
        "y.tail()"
      ],
      "metadata": {
        "colab": {
          "base_uri": "https://localhost:8080/"
        },
        "id": "InejIDJRQE9I",
        "outputId": "7bad3f2d-69e4-44ae-e704-2bc7ce620d94"
      },
      "execution_count": 77,
      "outputs": [
        {
          "output_type": "execute_result",
          "data": {
            "text/plain": [
              "6814    0\n",
              "6815    0\n",
              "6816    0\n",
              "6817    0\n",
              "6818    0\n",
              "Name: Bankrupt?, dtype: int64"
            ]
          },
          "metadata": {},
          "execution_count": 77
        }
      ]
    },
    {
      "cell_type": "code",
      "source": [
        "# Visualizing the class distribution of the target variable 'Bankrupt?' to understand the balance between the two classes\n",
        "bankruptcy_df['Bankrupt?'].value_counts(normalize= True).plot(kind= 'bar')\n",
        "plt.xlabel(\"Bankrupt classes\")\n",
        "plt.ylabel(\"Frequancy\")\n",
        "plt.title(\"Class balance\");"
      ],
      "metadata": {
        "colab": {
          "base_uri": "https://localhost:8080/",
          "height": 467
        },
        "id": "w-n4OaFvQE__",
        "outputId": "09b951fd-8258-4a0f-e77e-878080fb321c"
      },
      "execution_count": 78,
      "outputs": [
        {
          "output_type": "display_data",
          "data": {
            "text/plain": [
              "<Figure size 640x480 with 1 Axes>"
            ],
            "image/png": "[encoded data removed]"
          },
          "metadata": {}
        }
      ]
    },
    {
      "cell_type": "code",
      "source": [
        "# Split the preprocessed data into a training and testing dataset\n",
        "X_train, X_test, y_train, y_test = train_test_split(X, y, random_state=42, stratify=y)\n",
        "X_train.shape"
      ],
      "metadata": {
        "colab": {
          "base_uri": "https://localhost:8080/"
        },
        "id": "68Iyw-wIQFD5",
        "outputId": "d65402a4-ff52-43bd-b60a-17310bb90fc4"
      },
      "execution_count": 79,
      "outputs": [
        {
          "output_type": "execute_result",
          "data": {
            "text/plain": [
              "(5114, 95)"
            ]
          },
          "metadata": {},
          "execution_count": 79
        }
      ]
    },
    {
      "cell_type": "code",
      "source": [
        "# Create a StandardScaler instances\n",
        "scaler = StandardScaler()\n",
        "\n",
        "# Fit the StandardScaler\n",
        "X_scaler = scaler.fit(X_train)\n",
        "\n",
        "# Scale the data\n",
        "X_train_scaled = X_scaler.transform(X_train)\n",
        "X_test_scaled = X_scaler.transform(X_test)"
      ],
      "metadata": {
        "id": "q_lD9n_4agba"
      },
      "execution_count": 80,
      "outputs": []
    },
    {
      "cell_type": "code",
      "source": [
        "# Create a Logistic Regression Model\n",
        "classifier = LogisticRegression(solver ='lbfgs', max_iter=1000, random_state=1)\n",
        "\n",
        "classifier"
      ],
      "metadata": {
        "colab": {
          "base_uri": "https://localhost:8080/",
          "height": 75
        },
        "id": "0yQ56RWGXnCZ",
        "outputId": "da519d04-6c2d-452b-951e-f0233bffda4e"
      },
      "execution_count": 81,
      "outputs": [
        {
          "output_type": "execute_result",
          "data": {
            "text/plain": [
              "LogisticRegression(max_iter=1000, random_state=1)"
            ],
            "text/html": [
              "<style>#sk-container-id-5 {color: black;background-color: white;}#sk-container-id-5 pre{padding: 0;}#sk-container-id-5 div.sk-toggleable {background-color: white;}#sk-container-id-5 label.sk-toggleable__label {cursor: pointer;display: block;width: 100%;margin-bottom: 0;padding: 0.3em;box-sizing: border-box;text-align: center;}#sk-container-id-5 label.sk-toggleable__label-arrow:before {content: \"▸\";float: left;margin-right: 0.25em;color: #696969;}#sk-container-id-5 label.sk-toggleable__label-arrow:hover:before {color: black;}#sk-container-id-5 div.sk-estimator:hover label.sk-toggleable__label-arrow:before {color: black;}#sk-container-id-5 div.sk-toggleable__content {max-height: 0;max-width: 0;overflow: hidden;text-align: left;background-color: #f0f8ff;}#sk-container-id-5 div.sk-toggleable__content pre {margin: 0.2em;color: black;border-radius: 0.25em;background-color: #f0f8ff;}#sk-container-id-5 input.sk-toggleable__control:checked~div.sk-toggleable__content {max-height: 200px;max-width: 100%;overflow: auto;}#sk-container-id-5 input.sk-toggleable__control:checked~label.sk-toggleable__label-arrow:before {content: \"▾\";}#sk-container-id-5 div.sk-estimator input.sk-toggleable__control:checked~label.sk-toggleable__label {background-color: #d4ebff;}#sk-container-id-5 div.sk-label input.sk-toggleable__control:checked~label.sk-toggleable__label {background-color: #d4ebff;}#sk-container-id-5 input.sk-hidden--visually {border: 0;clip: rect(1px 1px 1px 1px);clip: rect(1px, 1px, 1px, 1px);height: 1px;margin: -1px;overflow: hidden;padding: 0;position: absolute;width: 1px;}#sk-container-id-5 div.sk-estimator {font-family: monospace;background-color: #f0f8ff;border: 1px dotted black;border-radius: 0.25em;box-sizing: border-box;margin-bottom: 0.5em;}#sk-container-id-5 div.sk-estimator:hover {background-color: #d4ebff;}#sk-container-id-5 div.sk-parallel-item::after {content: \"\";width: 100%;border-bottom: 1px solid gray;flex-grow: 1;}#sk-container-id-5 div.sk-label:hover label.sk-toggleable__label {background-color: #d4ebff;}#sk-container-id-5 div.sk-serial::before {content: \"\";position: absolute;border-left: 1px solid gray;box-sizing: border-box;top: 0;bottom: 0;left: 50%;z-index: 0;}#sk-container-id-5 div.sk-serial {display: flex;flex-direction: column;align-items: center;background-color: white;padding-right: 0.2em;padding-left: 0.2em;position: relative;}#sk-container-id-5 div.sk-item {position: relative;z-index: 1;}#sk-container-id-5 div.sk-parallel {display: flex;align-items: stretch;justify-content: center;background-color: white;position: relative;}#sk-container-id-5 div.sk-item::before, #sk-container-id-5 div.sk-parallel-item::before {content: \"\";position: absolute;border-left: 1px solid gray;box-sizing: border-box;top: 0;bottom: 0;left: 50%;z-index: -1;}#sk-container-id-5 div.sk-parallel-item {display: flex;flex-direction: column;z-index: 1;position: relative;background-color: white;}#sk-container-id-5 div.sk-parallel-item:first-child::after {align-self: flex-end;width: 50%;}#sk-container-id-5 div.sk-parallel-item:last-child::after {align-self: flex-start;width: 50%;}#sk-container-id-5 div.sk-parallel-item:only-child::after {width: 0;}#sk-container-id-5 div.sk-dashed-wrapped {border: 1px dashed gray;margin: 0 0.4em 0.5em 0.4em;box-sizing: border-box;padding-bottom: 0.4em;background-color: white;}#sk-container-id-5 div.sk-label label {font-family: monospace;font-weight: bold;display: inline-block;line-height: 1.2em;}#sk-container-id-5 div.sk-label-container {text-align: center;}#sk-container-id-5 div.sk-container {/* jupyter's `normalize.less` sets `[hidden] { display: none; }` but bootstrap.min.css set `[hidden] { display: none !important; }` so we also need the `!important` here to be able to override the default hidden behavior on the sphinx rendered scikit-learn.org. See: https://github.com/scikit-learn/scikit-learn/issues/21755 */display: inline-block !important;position: relative;}#sk-container-id-5 div.sk-text-repr-fallback {display: none;}</style><div id=\"sk-container-id-5\" class=\"sk-top-container\"><div class=\"sk-text-repr-fallback\"><pre>LogisticRegression(max_iter=1000, random_state=1)</pre><b>In a Jupyter environment, please rerun this cell to show the HTML representation or trust the notebook. <br />On GitHub, the HTML representation is unable to render, please try loading this page with nbviewer.org.</b></div><div class=\"sk-container\" hidden><div class=\"sk-item\"><div class=\"sk-estimator sk-toggleable\"><input class=\"sk-toggleable__control sk-hidden--visually\" id=\"sk-estimator-id-5\" type=\"checkbox\" checked><label for=\"sk-estimator-id-5\" class=\"sk-toggleable__label sk-toggleable__label-arrow\">LogisticRegression</label><div class=\"sk-toggleable__content\"><pre>LogisticRegression(max_iter=1000, random_state=1)</pre></div></div></div></div></div>"
            ]
          },
          "metadata": {},
          "execution_count": 81
        }
      ]
    },
    {
      "cell_type": "code",
      "source": [
        "# Fit (train) or model using the training data\n",
        "classifier.fit(X_train, y_train)"
      ],
      "metadata": {
        "colab": {
          "base_uri": "https://localhost:8080/",
          "height": 75
        },
        "id": "XYwJSiZBXnLF",
        "outputId": "808d25e8-db3a-4120-a70b-7d12c6f3641b"
      },
      "execution_count": 82,
      "outputs": [
        {
          "output_type": "execute_result",
          "data": {
            "text/plain": [
              "LogisticRegression(max_iter=1000, random_state=1)"
            ],
            "text/html": [
              "<style>#sk-container-id-6 {color: black;background-color: white;}#sk-container-id-6 pre{padding: 0;}#sk-container-id-6 div.sk-toggleable {background-color: white;}#sk-container-id-6 label.sk-toggleable__label {cursor: pointer;display: block;width: 100%;margin-bottom: 0;padding: 0.3em;box-sizing: border-box;text-align: center;}#sk-container-id-6 label.sk-toggleable__label-arrow:before {content: \"▸\";float: left;margin-right: 0.25em;color: #696969;}#sk-container-id-6 label.sk-toggleable__label-arrow:hover:before {color: black;}#sk-container-id-6 div.sk-estimator:hover label.sk-toggleable__label-arrow:before {color: black;}#sk-container-id-6 div.sk-toggleable__content {max-height: 0;max-width: 0;overflow: hidden;text-align: left;background-color: #f0f8ff;}#sk-container-id-6 div.sk-toggleable__content pre {margin: 0.2em;color: black;border-radius: 0.25em;background-color: #f0f8ff;}#sk-container-id-6 input.sk-toggleable__control:checked~div.sk-toggleable__content {max-height: 200px;max-width: 100%;overflow: auto;}#sk-container-id-6 input.sk-toggleable__control:checked~label.sk-toggleable__label-arrow:before {content: \"▾\";}#sk-container-id-6 div.sk-estimator input.sk-toggleable__control:checked~label.sk-toggleable__label {background-color: #d4ebff;}#sk-container-id-6 div.sk-label input.sk-toggleable__control:checked~label.sk-toggleable__label {background-color: #d4ebff;}#sk-container-id-6 input.sk-hidden--visually {border: 0;clip: rect(1px 1px 1px 1px);clip: rect(1px, 1px, 1px, 1px);height: 1px;margin: -1px;overflow: hidden;padding: 0;position: absolute;width: 1px;}#sk-container-id-6 div.sk-estimator {font-family: monospace;background-color: #f0f8ff;border: 1px dotted black;border-radius: 0.25em;box-sizing: border-box;margin-bottom: 0.5em;}#sk-container-id-6 div.sk-estimator:hover {background-color: #d4ebff;}#sk-container-id-6 div.sk-parallel-item::after {content: \"\";width: 100%;border-bottom: 1px solid gray;flex-grow: 1;}#sk-container-id-6 div.sk-label:hover label.sk-toggleable__label {background-color: #d4ebff;}#sk-container-id-6 div.sk-serial::before {content: \"\";position: absolute;border-left: 1px solid gray;box-sizing: border-box;top: 0;bottom: 0;left: 50%;z-index: 0;}#sk-container-id-6 div.sk-serial {display: flex;flex-direction: column;align-items: center;background-color: white;padding-right: 0.2em;padding-left: 0.2em;position: relative;}#sk-container-id-6 div.sk-item {position: relative;z-index: 1;}#sk-container-id-6 div.sk-parallel {display: flex;align-items: stretch;justify-content: center;background-color: white;position: relative;}#sk-container-id-6 div.sk-item::before, #sk-container-id-6 div.sk-parallel-item::before {content: \"\";position: absolute;border-left: 1px solid gray;box-sizing: border-box;top: 0;bottom: 0;left: 50%;z-index: -1;}#sk-container-id-6 div.sk-parallel-item {display: flex;flex-direction: column;z-index: 1;position: relative;background-color: white;}#sk-container-id-6 div.sk-parallel-item:first-child::after {align-self: flex-end;width: 50%;}#sk-container-id-6 div.sk-parallel-item:last-child::after {align-self: flex-start;width: 50%;}#sk-container-id-6 div.sk-parallel-item:only-child::after {width: 0;}#sk-container-id-6 div.sk-dashed-wrapped {border: 1px dashed gray;margin: 0 0.4em 0.5em 0.4em;box-sizing: border-box;padding-bottom: 0.4em;background-color: white;}#sk-container-id-6 div.sk-label label {font-family: monospace;font-weight: bold;display: inline-block;line-height: 1.2em;}#sk-container-id-6 div.sk-label-container {text-align: center;}#sk-container-id-6 div.sk-container {/* jupyter's `normalize.less` sets `[hidden] { display: none; }` but bootstrap.min.css set `[hidden] { display: none !important; }` so we also need the `!important` here to be able to override the default hidden behavior on the sphinx rendered scikit-learn.org. See: https://github.com/scikit-learn/scikit-learn/issues/21755 */display: inline-block !important;position: relative;}#sk-container-id-6 div.sk-text-repr-fallback {display: none;}</style><div id=\"sk-container-id-6\" class=\"sk-top-container\"><div class=\"sk-text-repr-fallback\"><pre>LogisticRegression(max_iter=1000, random_state=1)</pre><b>In a Jupyter environment, please rerun this cell to show the HTML representation or trust the notebook. <br />On GitHub, the HTML representation is unable to render, please try loading this page with nbviewer.org.</b></div><div class=\"sk-container\" hidden><div class=\"sk-item\"><div class=\"sk-estimator sk-toggleable\"><input class=\"sk-toggleable__control sk-hidden--visually\" id=\"sk-estimator-id-6\" type=\"checkbox\" checked><label for=\"sk-estimator-id-6\" class=\"sk-toggleable__label sk-toggleable__label-arrow\">LogisticRegression</label><div class=\"sk-toggleable__content\"><pre>LogisticRegression(max_iter=1000, random_state=1)</pre></div></div></div></div></div>"
            ]
          },
          "metadata": {},
          "execution_count": 82
        }
      ]
    },
    {
      "cell_type": "code",
      "source": [
        "# Score the model using the test data\n",
        "print(f\"Training Data Score: {classifier.score(X_train, y_train)}\")\n",
        "print(f\"Testing Data Score: {classifier.score(X_test, y_test)}\")"
      ],
      "metadata": {
        "colab": {
          "base_uri": "https://localhost:8080/"
        },
        "id": "kBuZAlutXnN9",
        "outputId": "42a05e14-a874-49ce-d16c-fe827f78db70"
      },
      "execution_count": 83,
      "outputs": [
        {
          "output_type": "stream",
          "name": "stdout",
          "text": [
            "Training Data Score: 0.9605005866249511\n",
            "Testing Data Score: 0.9577712609970674\n"
          ]
        }
      ]
    },
    {
      "cell_type": "code",
      "source": [
        "# Make predictions\n",
        "predictions= classifier.predict(X_test)\n",
        "results = pd.DataFrame({\"Prediction\":predictions, \"Actual\":y_test}).reset_index(drop=True)\n",
        "results.head(10)"
      ],
      "metadata": {
        "colab": {
          "base_uri": "https://localhost:8080/",
          "height": 363
        },
        "id": "FOaP2HWEXnSj",
        "outputId": "3f992331-d49b-481e-c0e9-98034348dcb3"
      },
      "execution_count": 84,
      "outputs": [
        {
          "output_type": "execute_result",
          "data": {
            "text/plain": [
              "   Prediction  Actual\n",
              "0           0       0\n",
              "1           0       0\n",
              "2           0       0\n",
              "3           0       1\n",
              "4           0       1\n",
              "5           0       0\n",
              "6           0       0\n",
              "7           0       0\n",
              "8           0       0\n",
              "9           0       0"
            ],
            "text/html": [
              "\n",
              "  <div id=\"df-ae44853e-e3c6-4e1c-844a-260fb904fd31\" class=\"colab-df-container\">\n",
              "    <div>\n",
              "<style scoped>\n",
              "    .dataframe tbody tr th:only-of-type {\n",
              "        vertical-align: middle;\n",
              "    }\n",
              "\n",
              "    .dataframe tbody tr th {\n",
              "        vertical-align: top;\n",
              "    }\n",
              "\n",
              "    .dataframe thead th {\n",
              "        text-align: right;\n",
              "    }\n",
              "</style>\n",
              "<table border=\"1\" class=\"dataframe\">\n",
              "  <thead>\n",
              "    <tr style=\"text-align: right;\">\n",
              "      <th></th>\n",
              "      <th>Prediction</th>\n",
              "      <th>Actual</th>\n",
              "    </tr>\n",
              "  </thead>\n",
              "  <tbody>\n",
              "    <tr>\n",
              "      <th>0</th>\n",
              "      <td>0</td>\n",
              "      <td>0</td>\n",
              "    </tr>\n",
              "    <tr>\n",
              "      <th>1</th>\n",
              "      <td>0</td>\n",
              "      <td>0</td>\n",
              "    </tr>\n",
              "    <tr>\n",
              "      <th>2</th>\n",
              "      <td>0</td>\n",
              "      <td>0</td>\n",
              "    </tr>\n",
              "    <tr>\n",
              "      <th>3</th>\n",
              "      <td>0</td>\n",
              "      <td>1</td>\n",
              "    </tr>\n",
              "    <tr>\n",
              "      <th>4</th>\n",
              "      <td>0</td>\n",
              "      <td>1</td>\n",
              "    </tr>\n",
              "    <tr>\n",
              "      <th>5</th>\n",
              "      <td>0</td>\n",
              "      <td>0</td>\n",
              "    </tr>\n",
              "    <tr>\n",
              "      <th>6</th>\n",
              "      <td>0</td>\n",
              "      <td>0</td>\n",
              "    </tr>\n",
              "    <tr>\n",
              "      <th>7</th>\n",
              "      <td>0</td>\n",
              "      <td>0</td>\n",
              "    </tr>\n",
              "    <tr>\n",
              "      <th>8</th>\n",
              "      <td>0</td>\n",
              "      <td>0</td>\n",
              "    </tr>\n",
              "    <tr>\n",
              "      <th>9</th>\n",
              "      <td>0</td>\n",
              "      <td>0</td>\n",
              "    </tr>\n",
              "  </tbody>\n",
              "</table>\n",
              "</div>\n",
              "    <div class=\"colab-df-buttons\">\n",
              "\n",
              "  <div class=\"colab-df-container\">\n",
              "    <button class=\"colab-df-convert\" onclick=\"convertToInteractive('df-ae44853e-e3c6-4e1c-844a-260fb904fd31')\"\n",
              "            title=\"Convert this dataframe to an interactive table.\"\n",
              "            style=\"display:none;\">\n",
              "\n",
              "  <svg xmlns=\"http://www.w3.org/2000/svg\" height=\"24px\" viewBox=\"0 -960 960 960\">\n",
              "    <path d=\"M120-120v-720h720v720H120Zm60-500h600v-160H180v160Zm220 220h160v-160H400v160Zm0 220h160v-160H400v160ZM180-400h160v-160H180v160Zm440 0h160v-160H620v160ZM180-180h160v-160H180v160Zm440 0h160v-160H620v160Z\"/>\n",
              "  </svg>\n",
              "    </button>\n",
              "\n",
              "  <style>\n",
              "    .colab-df-container {\n",
              "      display:flex;\n",
              "      gap: 12px;\n",
              "    }\n",
              "\n",
              "    .colab-df-convert {\n",
              "      background-color: #E8F0FE;\n",
              "      border: none;\n",
              "      border-radius: 50%;\n",
              "      cursor: pointer;\n",
              "      display: none;\n",
              "      fill: #1967D2;\n",
              "      height: 32px;\n",
              "      padding: 0 0 0 0;\n",
              "      width: 32px;\n",
              "    }\n",
              "\n",
              "    .colab-df-convert:hover {\n",
              "      background-color: #E2EBFA;\n",
              "      box-shadow: 0px 1px 2px rgba(60, 64, 67, 0.3), 0px 1px 3px 1px rgba(60, 64, 67, 0.15);\n",
              "      fill: #174EA6;\n",
              "    }\n",
              "\n",
              "    .colab-df-buttons div {\n",
              "      margin-bottom: 4px;\n",
              "    }\n",
              "\n",
              "    [theme=dark] .colab-df-convert {\n",
              "      background-color: #3B4455;\n",
              "      fill: #D2E3FC;\n",
              "    }\n",
              "\n",
              "    [theme=dark] .colab-df-convert:hover {\n",
              "      background-color: #434B5C;\n",
              "      box-shadow: 0px 1px 3px 1px rgba(0, 0, 0, 0.15);\n",
              "      filter: drop-shadow(0px 1px 2px rgba(0, 0, 0, 0.3));\n",
              "      fill: #FFFFFF;\n",
              "    }\n",
              "  </style>\n",
              "\n",
              "    <script>\n",
              "      const buttonEl =\n",
              "        document.querySelector('#df-ae44853e-e3c6-4e1c-844a-260fb904fd31 button.colab-df-convert');\n",
              "      buttonEl.style.display =\n",
              "        google.colab.kernel.accessAllowed ? 'block' : 'none';\n",
              "\n",
              "      async function convertToInteractive(key) {\n",
              "        const element = document.querySelector('#df-ae44853e-e3c6-4e1c-844a-260fb904fd31');\n",
              "        const dataTable =\n",
              "          await google.colab.kernel.invokeFunction('convertToInteractive',\n",
              "                                                    [key], {});\n",
              "        if (!dataTable) return;\n",
              "\n",
              "        const docLinkHtml = 'Like what you see? Visit the ' +\n",
              "          '<a target=\"_blank\" href=https://colab.research.google.com/notebooks/data_table.ipynb>data table notebook</a>'\n",
              "          + ' to learn more about interactive tables.';\n",
              "        element.innerHTML = '';\n",
              "        dataTable['output_type'] = 'display_data';\n",
              "        await google.colab.output.renderOutput(dataTable, element);\n",
              "        const docLink = document.createElement('div');\n",
              "        docLink.innerHTML = docLinkHtml;\n",
              "        element.appendChild(docLink);\n",
              "      }\n",
              "    </script>\n",
              "  </div>\n",
              "\n",
              "\n",
              "<div id=\"df-09add355-3d10-47ae-9b6c-6127ac49ebaf\">\n",
              "  <button class=\"colab-df-quickchart\" onclick=\"quickchart('df-09add355-3d10-47ae-9b6c-6127ac49ebaf')\"\n",
              "            title=\"Suggest charts.\"\n",
              "            style=\"display:none;\">\n",
              "\n",
              "<svg xmlns=\"http://www.w3.org/2000/svg\" height=\"24px\"viewBox=\"0 0 24 24\"\n",
              "     width=\"24px\">\n",
              "    <g>\n",
              "        <path d=\"M19 3H5c-1.1 0-2 .9-2 2v14c0 1.1.9 2 2 2h14c1.1 0 2-.9 2-2V5c0-1.1-.9-2-2-2zM9 17H7v-7h2v7zm4 0h-2V7h2v10zm4 0h-2v-4h2v4z\"/>\n",
              "    </g>\n",
              "</svg>\n",
              "  </button>\n",
              "\n",
              "<style>\n",
              "  .colab-df-quickchart {\n",
              "      --bg-color: #E8F0FE;\n",
              "      --fill-color: #1967D2;\n",
              "      --hover-bg-color: #E2EBFA;\n",
              "      --hover-fill-color: #174EA6;\n",
              "      --disabled-fill-color: #AAA;\n",
              "      --disabled-bg-color: #DDD;\n",
              "  }\n",
              "\n",
              "  [theme=dark] .colab-df-quickchart {\n",
              "      --bg-color: #3B4455;\n",
              "      --fill-color: #D2E3FC;\n",
              "      --hover-bg-color: #434B5C;\n",
              "      --hover-fill-color: #FFFFFF;\n",
              "      --disabled-bg-color: #3B4455;\n",
              "      --disabled-fill-color: #666;\n",
              "  }\n",
              "\n",
              "  .colab-df-quickchart {\n",
              "    background-color: var(--bg-color);\n",
              "    border: none;\n",
              "    border-radius: 50%;\n",
              "    cursor: pointer;\n",
              "    display: none;\n",
              "    fill: var(--fill-color);\n",
              "    height: 32px;\n",
              "    padding: 0;\n",
              "    width: 32px;\n",
              "  }\n",
              "\n",
              "  .colab-df-quickchart:hover {\n",
              "    background-color: var(--hover-bg-color);\n",
              "    box-shadow: 0 1px 2px rgba(60, 64, 67, 0.3), 0 1px 3px 1px rgba(60, 64, 67, 0.15);\n",
              "    fill: var(--button-hover-fill-color);\n",
              "  }\n",
              "\n",
              "  .colab-df-quickchart-complete:disabled,\n",
              "  .colab-df-quickchart-complete:disabled:hover {\n",
              "    background-color: var(--disabled-bg-color);\n",
              "    fill: var(--disabled-fill-color);\n",
              "    box-shadow: none;\n",
              "  }\n",
              "\n",
              "  .colab-df-spinner {\n",
              "    border: 2px solid var(--fill-color);\n",
              "    border-color: transparent;\n",
              "    border-bottom-color: var(--fill-color);\n",
              "    animation:\n",
              "      spin 1s steps(1) infinite;\n",
              "  }\n",
              "\n",
              "  @keyframes spin {\n",
              "    0% {\n",
              "      border-color: transparent;\n",
              "      border-bottom-color: var(--fill-color);\n",
              "      border-left-color: var(--fill-color);\n",
              "    }\n",
              "    20% {\n",
              "      border-color: transparent;\n",
              "      border-left-color: var(--fill-color);\n",
              "      border-top-color: var(--fill-color);\n",
              "    }\n",
              "    30% {\n",
              "      border-color: transparent;\n",
              "      border-left-color: var(--fill-color);\n",
              "      border-top-color: var(--fill-color);\n",
              "      border-right-color: var(--fill-color);\n",
              "    }\n",
              "    40% {\n",
              "      border-color: transparent;\n",
              "      border-right-color: var(--fill-color);\n",
              "      border-top-color: var(--fill-color);\n",
              "    }\n",
              "    60% {\n",
              "      border-color: transparent;\n",
              "      border-right-color: var(--fill-color);\n",
              "    }\n",
              "    80% {\n",
              "      border-color: transparent;\n",
              "      border-right-color: var(--fill-color);\n",
              "      border-bottom-color: var(--fill-color);\n",
              "    }\n",
              "    90% {\n",
              "      border-color: transparent;\n",
              "      border-bottom-color: var(--fill-color);\n",
              "    }\n",
              "  }\n",
              "</style>\n",
              "\n",
              "  <script>\n",
              "    async function quickchart(key) {\n",
              "      const quickchartButtonEl =\n",
              "        document.querySelector('#' + key + ' button');\n",
              "      quickchartButtonEl.disabled = true;  // To prevent multiple clicks.\n",
              "      quickchartButtonEl.classList.add('colab-df-spinner');\n",
              "      try {\n",
              "        const charts = await google.colab.kernel.invokeFunction(\n",
              "            'suggestCharts', [key], {});\n",
              "      } catch (error) {\n",
              "        console.error('Error during call to suggestCharts:', error);\n",
              "      }\n",
              "      quickchartButtonEl.classList.remove('colab-df-spinner');\n",
              "      quickchartButtonEl.classList.add('colab-df-quickchart-complete');\n",
              "    }\n",
              "    (() => {\n",
              "      let quickchartButtonEl =\n",
              "        document.querySelector('#df-09add355-3d10-47ae-9b6c-6127ac49ebaf button');\n",
              "      quickchartButtonEl.style.display =\n",
              "        google.colab.kernel.accessAllowed ? 'block' : 'none';\n",
              "    })();\n",
              "  </script>\n",
              "</div>\n",
              "    </div>\n",
              "  </div>\n"
            ]
          },
          "metadata": {},
          "execution_count": 84
        }
      ]
    },
    {
      "cell_type": "code",
      "source": [
        "# Calculate the Accuracy Score\n",
        "# Display the accuracy score for the test dataset.\n",
        "accuracy_score(y_test, predictions)\n"
      ],
      "metadata": {
        "colab": {
          "base_uri": "https://localhost:8080/"
        },
        "id": "nfrQTCbOXnXk",
        "outputId": "7d07e685-443c-4cd6-b1c6-ab04a9d488ec"
      },
      "execution_count": 85,
      "outputs": [
        {
          "output_type": "execute_result",
          "data": {
            "text/plain": [
              "0.9577712609970674"
            ]
          },
          "metadata": {},
          "execution_count": 85
        }
      ]
    },
    {
      "cell_type": "markdown",
      "source": [
        "# Confusion Matrix\n"
      ],
      "metadata": {
        "id": "SvsOw5Ufd80D"
      }
    },
    {
      "cell_type": "code",
      "source": [
        "# Import the necessary libraries\n",
        "from sklearn.metrics import confusion_matrix\n",
        "\n",
        "# Make predictions on the training data\n",
        "training_predictions = classifier.predict(X_train)\n",
        "\n",
        "# Create and save the confusion matrix for the training data\n",
        "training_matrix = confusion_matrix(y_train, training_predictions)\n",
        "\n",
        "# Print the confusion matrix for the training data\n",
        "print(training_matrix)\n"
      ],
      "metadata": {
        "colab": {
          "base_uri": "https://localhost:8080/"
        },
        "id": "x3jDqllVdJm8",
        "outputId": "022fdf74-e807-4338-96e6-c4b464948de3"
      },
      "execution_count": 86,
      "outputs": [
        {
          "output_type": "stream",
          "name": "stdout",
          "text": [
            "[[4908   41]\n",
            " [ 161    4]]\n"
          ]
        }
      ]
    },
    {
      "cell_type": "code",
      "source": [
        "# Extract the elements of the confusion matrix\n",
        "TN, FP, FN, TP = training_matrix.ravel()\n",
        "\n",
        "# Print the elements in the desired format\n",
        "print(f'TN: {TN}  FP: {FP}  FN: {FN}  TP: {TP}')\n"
      ],
      "metadata": {
        "colab": {
          "base_uri": "https://localhost:8080/"
        },
        "id": "q-CTB45BdJvM",
        "outputId": "18074037-29df-45ae-d5eb-2db8317a93c9"
      },
      "execution_count": 87,
      "outputs": [
        {
          "output_type": "stream",
          "name": "stdout",
          "text": [
            "TN: 4908  FP: 41  FN: 161  TP: 4\n"
          ]
        }
      ]
    },
    {
      "cell_type": "markdown",
      "source": [
        "The output represents the **confusion matrix for training data**. Here's how to interpret it:\n",
        "\n",
        "- The top-left element (4908) is the number of **true negatives (TN)**, which indicates the number of non-bankrupt companies correctly predicted as non-bankrupt.\n",
        "\n",
        "- The top-right element (41) is the number of **false positives (FP)**, which indicates the number of non-bankrupt companies incorrectly predicted as bankrupt.\n",
        "\n",
        "- The bottom-left element (161) is the number of **false negatives (FN)**, which indicates the number of bankrupt companies incorrectly predicted as non-bankrupt.\n",
        "\n",
        "- The bottom-right element (4) is the number of **true positives (TP)**, which indicates the number of bankrupt companies correctly predicted as bankrupt."
      ],
      "metadata": {
        "id": "oYBXbiR7gCRX"
      }
    },
    {
      "cell_type": "code",
      "source": [
        "# Create and save the confusion matrix for the testing data\n",
        "test_matrix = confusion_matrix(y_test, predictions)\n",
        "\n",
        "# Print the confusion matrix for the testing data\n",
        "print(test_matrix)"
      ],
      "metadata": {
        "colab": {
          "base_uri": "https://localhost:8080/"
        },
        "id": "cfSDQM62dJzZ",
        "outputId": "372942a0-f60f-45f8-acc2-e8e107873c56"
      },
      "execution_count": 88,
      "outputs": [
        {
          "output_type": "stream",
          "name": "stdout",
          "text": [
            "[[1633   17]\n",
            " [  55    0]]\n"
          ]
        }
      ]
    },
    {
      "cell_type": "code",
      "source": [
        "# Extract the elements of the confusion matrix\n",
        "TN, FP, FN, TP = test_matrix.ravel()\n",
        "\n",
        "# Print the elements in the desired format\n",
        "print(f'TN: {TN}  FP: {FP}  FN: {FN}  TP: {TP}')"
      ],
      "metadata": {
        "colab": {
          "base_uri": "https://localhost:8080/"
        },
        "id": "thlueu8CdJ3D",
        "outputId": "36c3db80-10ad-49ac-9a76-2bf5643457a7"
      },
      "execution_count": 89,
      "outputs": [
        {
          "output_type": "stream",
          "name": "stdout",
          "text": [
            "TN: 1633  FP: 17  FN: 55  TP: 0\n"
          ]
        }
      ]
    },
    {
      "cell_type": "markdown",
      "source": [
        "The output represents the **confusion matrix for testing data**. Here's how to interpret it:\n",
        "\n",
        "**True Negatives (TN):** The model correctly identified 1633 instances as Non-Bankrupt Companies.\n",
        "\n",
        "**False Positives (FP):** The model incorrectly classified 17 instances as Bankrupt Companies, which were actually Non-Bankrupt Companies.\n",
        "\n",
        "**False Negatives (FN):** The model failed to identify 55 instances as Bankrupt Companies, misclassifying them as Non-Bankrupt Companies.\n",
        "\n",
        "**True Positives (TP):** The model correctly identified Bankrupt Companies."
      ],
      "metadata": {
        "id": "ig65KxLph2_t"
      }
    },
    {
      "cell_type": "markdown",
      "source": [
        "# Classification Report"
      ],
      "metadata": {
        "id": "_TrSAhQ7iWSs"
      }
    },
    {
      "cell_type": "code",
      "source": [
        "# Create a dictionary to map the class labels to the custom labels\n",
        "target_names = {0:'non_bankrupt', 1:'bankrupt'}\n",
        "\n",
        "# Create and save the training classification report with custom labels\n",
        "training_report = classification_report(y_train, training_predictions, target_names=target_names.values())\n",
        "\n",
        "# Print the training classification report\n",
        "print(training_report)"
      ],
      "metadata": {
        "colab": {
          "base_uri": "https://localhost:8080/"
        },
        "id": "xR5ho5pBdJ6c",
        "outputId": "bbd7fc91-bc1a-4de2-b5e6-a46a87525a44"
      },
      "execution_count": 90,
      "outputs": [
        {
          "output_type": "stream",
          "name": "stdout",
          "text": [
            "              precision    recall  f1-score   support\n",
            "\n",
            "non_bankrupt       0.97      0.99      0.98      4949\n",
            "    bankrupt       0.09      0.02      0.04       165\n",
            "\n",
            "    accuracy                           0.96      5114\n",
            "   macro avg       0.53      0.51      0.51      5114\n",
            "weighted avg       0.94      0.96      0.95      5114\n",
            "\n"
          ]
        }
      ]
    },
    {
      "cell_type": "markdown",
      "source": [
        "**Analysis:**\n",
        "\n",
        "**Precision:** For the non-bankrupt companies, when the model predicts they are non-bankrupt, it's right about 97% of the time. For bankrupt companies, when the model predicts they are bankrupt, it's right only about 9% of the time.\n",
        "\n",
        "**Recall:** The model is very good at correctly identifying non-bankrupt companies, getting it right almost all the time (99%). However, it struggles to correctly identify bankrupt companies, getting it right only about 2% of the time.\n",
        "\n",
        "**F1-score:** Overall, the model is quite good at correctly identifying non-bankrupt companies, achieving a balance between precision and recall (98%). However, it has difficulty identifying bankrupt companies, with a lower score (4%).\n",
        "\n",
        "**Accuracy:** The overall accuracy of the model on the training data is     0.96, meaning that the model is correct in its predictions **96%** of the time. However, since the classes are **imbalanced**, accuracy alone might not be the most reliable metric for model evaluation.\n"
      ],
      "metadata": {
        "id": "8SA1RHlkkggP"
      }
    },
    {
      "cell_type": "code",
      "source": [
        "# Create a dictionary to map the class labels to the custom labels\n",
        "target_names = {0:'non_bankrupt', 1:'bankrupt'}\n",
        "\n",
        "# Create and save the testing classification report\n",
        "testing_report = classification_report(y_test, predictions, target_names=target_names.values())\n",
        "\n",
        "# Print the testing classification report\n",
        "print(testing_report)"
      ],
      "metadata": {
        "colab": {
          "base_uri": "https://localhost:8080/"
        },
        "id": "mfBjcYXtdJ90",
        "outputId": "b245f103-3588-4940-fd2e-89d1bb2d2146"
      },
      "execution_count": 91,
      "outputs": [
        {
          "output_type": "stream",
          "name": "stdout",
          "text": [
            "              precision    recall  f1-score   support\n",
            "\n",
            "non_bankrupt       0.97      0.99      0.98      1650\n",
            "    bankrupt       0.00      0.00      0.00        55\n",
            "\n",
            "    accuracy                           0.96      1705\n",
            "   macro avg       0.48      0.49      0.49      1705\n",
            "weighted avg       0.94      0.96      0.95      1705\n",
            "\n"
          ]
        }
      ]
    },
    {
      "cell_type": "markdown",
      "source": [
        "**Analysis:**\n",
        "\n",
        "**Precision:** The model is very accurate at identifying non-bankrupt companies, with a precision of 97%. However, it is unable to correctly identify any bankrupt companies, as indicated by the precision of 0%.\n",
        "\n",
        "**Recall:** The model has a high recall for non-bankrupt companies (99%), indicating it can accurately identify them. However, it has a recall of 0% for bankrupt companies, suggesting it is unable to identify any of them correctly.\n",
        "\n",
        "**F1-score:** The F1-score, which balances precision and recall, is high for non-bankrupt companies (98%) but is 0 for bankrupt companies, highlighting the model's inability to correctly identify any bankrupt companies.\n",
        "\n",
        "**Accuracy:** The accuracy is calculated as 0.96 or 96%. This means that the model correctly predicts the outcome for approximately 96% of the cases in the testing data.\n",
        "\n",
        "These metrics suggest that while the model performs well in identifying non-bankrupt companies, it is unable to correctly identify any of the bankrupt companies. This implies that the model's performance is quite imbalanced, with a strong bias towards the majority class (non-bankrupt companies)."
      ],
      "metadata": {
        "id": "sBDE0kJolY_K"
      }
    },
    {
      "cell_type": "markdown",
      "source": [
        "# My observation after training and testing report\n",
        "Since my project's goal is to identify bankrupt companies, it's crucial to focus on metrics that specifically address the model's performance in correctly identifying the positive class (bankrupt companies).\n",
        "\n",
        "Considering both the training and testing data analysis,I should primarily focus on improving the following key metrics:\n",
        "\n",
        "**Recall:** Improving the model's ability to correctly identify bankrupt companies is essential. Given the low recall for bankrupt companies in both the training and testing data, increasing this metric is critical. Enhancing recall will ensure that the model captures more bankrupt companies, reducing the instances of false negatives.\n",
        "\n",
        "**F1-score:** Since the F1-score considers both precision and recall, enhancing this metric for bankrupt companies is necessary. By improving the F1-score, I can achieve a better balance between precision and recall for bankrupt companies, indicating a more accurate model performance.\n",
        "\n",
        "While accuracy provides an overall picture of the model's correctness, its reliability is limited when dealing with imbalanced datasets. Thus, focusing on improving recall and F1-score for bankrupt companies is crucial to enhancing the model's ability to correctly identify this specific class, aligning with my project goal.\n",
        "\n",
        "# Recommendation\n",
        "\n",
        "To improve the metrics related to correctly identifying **bankrupt companies**, such as **recall** and **F1-score**, I can consider using more sophisticated machine learning models that are adept at handling imbalanced datasets and capturing complex patterns. Two effective models that can help address these issues are **Random Forest Classifier** and **Gradient Boosting Model**."
      ],
      "metadata": {
        "id": "MNKvwQsLncU6"
      }
    },
    {
      "cell_type": "markdown",
      "source": [
        "# Correlation Analysis:"
      ],
      "metadata": {
        "id": "J-3YrIwzpLAK"
      }
    },
    {
      "cell_type": "code",
      "source": [
        "# Using the Pandas library in Python to calculate the correlation coefficients between each feature and the target variable:\n",
        "correlation_values = bankruptcy_df.corr()['Bankrupt?'].abs().sort_values(ascending=False)\n",
        "correlation_values"
      ],
      "metadata": {
        "id": "tF8OY57doJIp",
        "colab": {
          "base_uri": "https://localhost:8080/"
        },
        "outputId": "1a11d16d-5bee-410c-f518-3c4cc604b05c"
      },
      "execution_count": 92,
      "outputs": [
        {
          "output_type": "execute_result",
          "data": {
            "text/plain": [
              "Bankrupt?                                            1.000000\n",
              "NetIncometoTotalAssets                               0.315457\n",
              "ROA(A)beforeinterestand%aftertax                     0.282941\n",
              "ROA(B)beforeinterestanddepreciationaftertax          0.273051\n",
              "ROA(C)beforeinterestanddepreciationbeforeinterest    0.260807\n",
              "Networth/Assets                                      0.250161\n",
              "Debtratio%                                           0.250161\n",
              "PersistentEPSintheLastFourSeasons                    0.219560\n",
              "RetainedEarningstoTotalAssets                        0.217779\n",
              "Netprofitbeforetax/Paid-incapital                    0.207857\n",
              "PerShareNetprofitbeforetax(Yuan¥)                    0.201395\n",
              "CurrentLiabilitytoAssets                             0.194494\n",
              "WorkingCapitaltoTotalAssets                          0.193083\n",
              "NetIncometoStockholder'sEquity                       0.180987\n",
              "Borrowingdependency                                  0.176543\n",
              "CurrentLiabilitytoCurrentAssets                      0.171306\n",
              "LiabilitytoEquity                                    0.166812\n",
              "NetValuePerShare(A)                                  0.165465\n",
              "NetValuePerShare(B)                                  0.165399\n",
              "NetValuePerShare(C)                                  0.164784\n",
              "CurrentLiabilitytoEquity                             0.153828\n",
              "CurrentLiabilities/Equity                            0.153828\n",
              "WorkingCapital/Equity                                0.147221\n",
              "OperatingProfitPerShare(Yuan¥)                       0.142051\n",
              "Operatingprofit/Paid-incapital                       0.141111\n",
              "Liability-AssetsFlag                                 0.139212\n",
              "Totalexpense/Assets                                  0.139049\n",
              "EquitytoLong-termLiability                           0.139014\n",
              "CFOtoAssets                                          0.115383\n",
              "Taxrate(A)                                           0.109706\n",
              "Cash/TotalAssets                                     0.100130\n",
              "GrossProfittoSales                                   0.100044\n",
              "OperatingGrossMargin                                 0.100043\n",
              "RealizedSalesGrossMargin                             0.099445\n",
              "Operatingprofitperperson                             0.092842\n",
              "QuickAssets/TotalAssets                              0.086382\n",
              "EquitytoLiability                                    0.083048\n",
              "Cash/CurrentLiability                                0.077921\n",
              "CashFlowPerShare                                     0.077516\n",
              "OperatingFundstoLiability                            0.077082\n",
              "Inventoryandaccountsreceivable/Netvalue              0.075278\n",
              "FixedAssetsTurnoverFrequency                         0.072818\n",
              "Cashflowrate                                         0.072356\n",
              "CashFlowtoTotalAssets                                0.070456\n",
              "Contingentliabilities/Networth                       0.070455\n",
              "TotalAssetTurnover                                   0.067915\n",
              "FixedAssetstoAssets                                  0.066328\n",
              "NetValueGrowthRate                                   0.065329\n",
              "CashFlowtoEquity                                     0.058563\n",
              "CashReinvestment%                                    0.051345\n",
              "CurrentAssets/TotalAssets                            0.044823\n",
              "TotalAssetGrowthRate                                 0.044431\n",
              "CashFlowtoLiability                                  0.043125\n",
              "Revenueperperson                                     0.039718\n",
              "After-taxNetProfitGrowthRate                         0.037783\n",
              "RegularNetProfitGrowthRate                           0.036820\n",
              "TotalassetstoGNPprice                                0.035104\n",
              "QuickAssetTurnoverRate                               0.025814\n",
              "QuickRatio                                           0.025058\n",
              "Researchanddevelopmentexpenserate                    0.024232\n",
              "Interest-bearingdebtinterestrate                     0.023063\n",
              "NetWorthTurnoverRate(times)                          0.021089\n",
              "CurrentLiabilities/Liability                         0.020809\n",
              "CurrentLiabilitytoLiability                          0.020809\n",
              "CashTurnoverRate                                     0.018035\n",
              "Long-termfundsuitabilityratio(A)                     0.016920\n",
              "TotalAssetReturnGrowthRateRatio                      0.016858\n",
              "Non-industryincomeandexpenditure/revenue             0.016593\n",
              "OperatingProfitGrowthRate                            0.015168\n",
              "Totaldebt/Totalnetworth                              0.012314\n",
              "CurrentAssetTurnoverRate                             0.011929\n",
              "DegreeofFinancialLeverage(DFL)                       0.010508\n",
              "ContinuousNetProfitGrowthRate                        0.009401\n",
              "After-taxnetInterestRate                             0.008857\n",
              "Pre-taxnetInterestRate                               0.008517\n",
              "Continuousinterestrate(aftertax)                     0.008395\n",
              "Totalincome/Totalexpense                             0.007137\n",
              "AverageCollectionDays                                0.006556\n",
              "OperatingExpenseRate                                 0.006083\n",
              "No-creditInterval                                    0.005547\n",
              "InterestCoverageRatio(InterestexpensetoEBIT)         0.005509\n",
              "AccountsReceivableTurnover                           0.004754\n",
              "RevenuePerShare(Yuan¥)                               0.004692\n",
              "QuickAssets/CurrentLiability                         0.003823\n",
              "WorkingcapitcalTurnoverRate                          0.002894\n",
              "Allocationrateperperson                              0.002829\n",
              "InterestExpenseRatio                                 0.002681\n",
              "CurrentRatio                                         0.002211\n",
              "Inventory/WorkingCapital                             0.001906\n",
              "InventoryTurnoverRate(times)                         0.001376\n",
              "Inventory/CurrentLiability                           0.000822\n",
              "Long-termLiabilitytoCurrentAssets                    0.000778\n",
              "CashFlowtoSales                                      0.000479\n",
              "RealizedSalesGrossProfitGrowthRate                   0.000458\n",
              "OperatingProfitRate                                  0.000230\n",
              "NetIncomeFlag                                             NaN\n",
              "Name: Bankrupt?, dtype: float64"
            ]
          },
          "metadata": {},
          "execution_count": 92
        }
      ]
    },
    {
      "cell_type": "markdown",
      "source": [
        "# Random Forest Classifier\n"
      ],
      "metadata": {
        "id": "ZqNK3eyMft9g"
      }
    },
    {
      "cell_type": "markdown",
      "source": [
        "# Feature Importance Techniques:\n",
        "\n",
        "\n",
        "\n"
      ],
      "metadata": {
        "id": "G8S5xkgdaxYv"
      }
    },
    {
      "cell_type": "code",
      "source": [
        "columns = X.columns.tolist()\n",
        "\n",
        "# Utilize the feature importance attribute to identify significant features\n",
        "from sklearn.ensemble import RandomForestClassifier\n",
        "\n",
        "# X and y are my features and target variable\n",
        "model = RandomForestClassifier()\n",
        "model.fit(X, y)\n",
        "\n",
        "# Extract feature importances\n",
        "feature_importances = pd.Series(model.feature_importances_, index=columns).sort_values(ascending=True)\n",
        "pd.set_option('display.max_rows', None)\n",
        "\n",
        "\n",
        "print(feature_importances)"
      ],
      "metadata": {
        "colab": {
          "base_uri": "https://localhost:8080/"
        },
        "id": "gmVdlqXeawiY",
        "outputId": "d62c8143-b523-4007-f9bd-ca9073ccc5b1"
      },
      "execution_count": 93,
      "outputs": [
        {
          "output_type": "stream",
          "name": "stdout",
          "text": [
            "NetIncomeFlag                                        0.000000\n",
            "Liability-AssetsFlag                                 0.000188\n",
            "Taxrate(A)                                           0.002267\n",
            "Contingentliabilities/Networth                       0.004761\n",
            "Long-termLiabilitytoCurrentAssets                    0.005590\n",
            "After-taxNetProfitGrowthRate                         0.005682\n",
            "TotalAssetTurnover                                   0.006361\n",
            "CurrentLiabilitytoCurrentAssets                      0.006409\n",
            "FixedAssetstoAssets                                  0.006481\n",
            "Cashflowrate                                         0.006497\n",
            "CashFlowtoSales                                      0.006591\n",
            "CurrentLiabilitytoAssets                             0.006613\n",
            "Totalexpense/Assets                                  0.006655\n",
            "CashFlowPerShare                                     0.006720\n",
            "RealizedSalesGrossProfitGrowthRate                   0.006832\n",
            "OperatingGrossMargin                                 0.006843\n",
            "CurrentLiabilities/Liability                         0.006882\n",
            "CurrentAssets/TotalAssets                            0.006898\n",
            "CashFlowtoLiability                                  0.006898\n",
            "Long-termfundsuitabilityratio(A)                     0.006922\n",
            "Inventory/CurrentLiability                           0.006925\n",
            "GrossProfittoSales                                   0.006995\n",
            "CurrentLiabilitytoLiability                          0.007034\n",
            "CFOtoAssets                                          0.007183\n",
            "RevenuePerShare(Yuan¥)                               0.007257\n",
            "OperatingProfitRate                                  0.007343\n",
            "RegularNetProfitGrowthRate                           0.007374\n",
            "InventoryTurnoverRate(times)                         0.007404\n",
            "CurrentRatio                                         0.007472\n",
            "CashFlowtoTotalAssets                                0.007535\n",
            "Inventoryandaccountsreceivable/Netvalue              0.007595\n",
            "OperatingProfitGrowthRate                            0.007645\n",
            "RealizedSalesGrossMargin                             0.007737\n",
            "Pre-taxnetInterestRate                               0.007805\n",
            "CashFlowtoEquity                                     0.007936\n",
            "CashTurnoverRate                                     0.008007\n",
            "NetWorthTurnoverRate(times)                          0.008025\n",
            "TotalAssetGrowthRate                                 0.008053\n",
            "QuickAssets/TotalAssets                              0.008120\n",
            "OperatingFundstoLiability                            0.008133\n",
            "CashReinvestment%                                    0.008150\n",
            "Operatingprofit/Paid-incapital                       0.008190\n",
            "Researchanddevelopmentexpenserate                    0.008221\n",
            "WorkingcapitcalTurnoverRate                          0.008421\n",
            "CurrentLiabilitytoEquity                             0.008426\n",
            "QuickAssetTurnoverRate                               0.008732\n",
            "QuickAssets/CurrentLiability                         0.008754\n",
            "After-taxnetInterestRate                             0.008801\n",
            "OperatingProfitPerShare(Yuan¥)                       0.008833\n",
            "CurrentLiabilities/Equity                            0.008835\n",
            "EquitytoLong-termLiability                           0.008970\n",
            "ContinuousNetProfitGrowthRate                        0.009149\n",
            "TotalassetstoGNPprice                                0.009152\n",
            "CurrentAssetTurnoverRate                             0.009450\n",
            "FixedAssetsTurnoverFrequency                         0.009730\n",
            "TotalAssetReturnGrowthRateRatio                      0.009814\n",
            "Operatingprofitperperson                             0.010171\n",
            "Revenueperperson                                     0.010293\n",
            "ROA(C)beforeinterestanddepreciationbeforeinterest    0.010611\n",
            "Allocationrateperperson                              0.010728\n",
            "RetainedEarningstoTotalAssets                        0.010741\n",
            "AccountsReceivableTurnover                           0.010854\n",
            "No-creditInterval                                    0.011133\n",
            "Inventory/WorkingCapital                             0.011539\n",
            "Totalincome/Totalexpense                             0.011610\n",
            "Debtratio%                                           0.011680\n",
            "WorkingCapitaltoTotalAssets                          0.011765\n",
            "OperatingExpenseRate                                 0.011846\n",
            "AverageCollectionDays                                0.012079\n",
            "Cash/CurrentLiability                                0.012464\n",
            "ROA(A)beforeinterestand%aftertax                     0.012796\n",
            "QuickRatio                                           0.012925\n",
            "Networth/Assets                                      0.013456\n",
            "NetValuePerShare(C)                                  0.013575\n",
            "ROA(B)beforeinterestanddepreciationaftertax          0.013606\n",
            "Totaldebt/Totalnetworth                              0.013809\n",
            "NetIncometoTotalAssets                               0.013948\n",
            "Continuousinterestrate(aftertax)                     0.014390\n",
            "PerShareNetprofitbeforetax(Yuan¥)                    0.014449\n",
            "Interest-bearingdebtinterestrate                     0.014450\n",
            "LiabilitytoEquity                                    0.015455\n",
            "InterestExpenseRatio                                 0.015482\n",
            "Non-industryincomeandexpenditure/revenue             0.015606\n",
            "Cash/TotalAssets                                     0.016130\n",
            "WorkingCapital/Equity                                0.016157\n",
            "InterestCoverageRatio(InterestexpensetoEBIT)         0.017065\n",
            "NetValuePerShare(A)                                  0.017859\n",
            "EquitytoLiability                                    0.018010\n",
            "DegreeofFinancialLeverage(DFL)                       0.018384\n",
            "NetIncometoStockholder'sEquity                       0.019194\n",
            "Borrowingdependency                                  0.022594\n",
            "NetValuePerShare(B)                                  0.023011\n",
            "NetValueGrowthRate                                   0.023158\n",
            "Netprofitbeforetax/Paid-incapital                    0.029243\n",
            "PersistentEPSintheLastFourSeasons                    0.032438\n",
            "dtype: float64\n"
          ]
        }
      ]
    },
    {
      "cell_type": "markdown",
      "source": [
        "# Feature Engineering"
      ],
      "metadata": {
        "id": "pXOutz3Ydz9C"
      }
    },
    {
      "cell_type": "code",
      "source": [
        "columns_to_drop = [\"NetIncomeFlag\", \"Liability-AssetsFlag\", \"Taxrate(A)\", \"Contingentliabilities/Networth\", \"TotalAssetTurnover\",\n",
        "                   \"Long-termLiabilitytoCurrentAssets\", \"RealizedSalesGrossProfitGrowthRate\", \"CashFlowtoSales\", \"CFOtoAssets\",\n",
        "                   \"After-taxNetProfitGrowthRate\", \"GrossProfittoSales\", \"CurrentAssets/TotalAssets\", \"CashFlowPerShare\",\n",
        "                   \"OperatingFundstoLiability\", \"OperatingGrossMargin\", \"ContinuousNetProfitGrowthRate\", \"Totalexpense/Assets\",\n",
        "                   \"OperatingProfitPerShare(Yuan¥)\", \"NetWorthTurnoverRate(times)\", \"CurrentLiabilitytoAssets\", \"EquitytoLong-termLiability\",\n",
        "                   \"RevenuePerShare(Yuan¥)\", \"FixedAssetstoAssets\", \"Inventory/CurrentLiability\", \"CashFlowtoLiability\",\n",
        "                   \"Inventoryandaccountsreceivable/Netvalue\", \"RegularNetProfitGrowthRate\", \"CashReinvestment%\", \"CurrentLiabilitytoLiability\",\n",
        "                   \"Operatingprofit/Paid-incapital\", \"CurrentAssetTurnoverRate\", \"OperatingProfitGrowthRate\", \"InventoryTurnoverRate(times)\",\n",
        "                   \"Researchanddevelopmentexpenserate\", \"QuickAssets/TotalAssets\", \"CurrentRatio\", \"TotalAssetGrowthRate\",\n",
        "                   \"Long-termfundsuitabilityratio(A)\", \"RealizedSalesGrossMargin\", \"WorkingcapitcalTurnoverRate\",\n",
        "                   \"CurrentLiabilitytoCurrentAssets\", \"QuickAssetTurnoverRate\", \"CashTurnoverRate\", \"Pre-taxnetInterestRate\",\n",
        "                   \"CurrentLiabilitytoEquity\", \"CurrentLiabilities/Liability\", \"CashFlowtoTotalAssets\", \"RetainedEarningstoTotalAssets\",\n",
        "                   \"OperatingProfitRate\", \"After-taxnetInterestRate\", \"FixedAssetsTurnoverFrequency\", \"TotalassetstoGNPprice\",\n",
        "                   \"QuickAssets/CurrentLiability\"]\n",
        "\n",
        "bankruptcy_df.drop(columns_to_drop, axis=1, inplace=True)\n"
      ],
      "metadata": {
        "id": "BP8Yg1T_Ty7c"
      },
      "execution_count": 94,
      "outputs": []
    },
    {
      "cell_type": "code",
      "source": [
        "# Splitting into Train and Test sets\n",
        "X_train, X_test, y_train, y_test = train_test_split(X, y, random_state=78)"
      ],
      "metadata": {
        "id": "wBeYoMmMfXYA"
      },
      "execution_count": 95,
      "outputs": []
    },
    {
      "cell_type": "code",
      "source": [
        "# Create the StandardScaler instance\n",
        "scaler = StandardScaler()"
      ],
      "metadata": {
        "id": "lFr3XYjFfxzy"
      },
      "execution_count": 96,
      "outputs": []
    },
    {
      "cell_type": "code",
      "source": [
        "# Fit the Standard Scaler with the training data\n",
        "X_scaler = scaler.fit(X_train)"
      ],
      "metadata": {
        "id": "9rDlZrtffx4b"
      },
      "execution_count": 97,
      "outputs": []
    },
    {
      "cell_type": "code",
      "source": [
        "# Scale the training data\n",
        "X_train_scaled = X_scaler.transform(X_train)\n",
        "X_test_scaled = X_scaler.transform(X_test)"
      ],
      "metadata": {
        "id": "wjDDLb-Ofx7P"
      },
      "execution_count": 98,
      "outputs": []
    },
    {
      "cell_type": "markdown",
      "source": [
        "# Fitting the Random Forest Model"
      ],
      "metadata": {
        "id": "eoP4uK_ogVCf"
      }
    },
    {
      "cell_type": "markdown",
      "source": [
        "Once the data is scaled, create a random forest instance and train it with the training data (X_train_scaled and y_train), define n_estimators=1000 and random_state=90.\n"
      ],
      "metadata": {
        "id": "5NsxjKKpgla4"
      }
    },
    {
      "cell_type": "code",
      "source": [
        "from sklearn.ensemble import RandomForestClassifier\n",
        "# Create the random forest classifier instance\n",
        "rf_model = RandomForestClassifier(n_estimators=1000, random_state=90)"
      ],
      "metadata": {
        "id": "gS_Wlco3fx_t"
      },
      "execution_count": 99,
      "outputs": []
    },
    {
      "cell_type": "code",
      "source": [
        "# Fit the model and use .ravel()on the \"y_train\" data.\n",
        "rf_model = rf_model.fit(X_train_scaled, y_train.ravel())"
      ],
      "metadata": {
        "id": "MTfu4xOUfyCW"
      },
      "execution_count": 101,
      "outputs": []
    },
    {
      "cell_type": "markdown",
      "source": [
        "# Making Predictions Using the Random Forest Model"
      ],
      "metadata": {
        "id": "yoGV3k8ShshT"
      }
    },
    {
      "cell_type": "code",
      "source": [
        "# Making predictions using the testing data\n",
        "predictions = rf_model.predict(X_test_scaled)"
      ],
      "metadata": {
        "id": "tjti2hm7fyEq"
      },
      "execution_count": 102,
      "outputs": []
    },
    {
      "cell_type": "markdown",
      "source": [
        "# Model Evaluation"
      ],
      "metadata": {
        "id": "IwuV3pSKiBow"
      }
    },
    {
      "cell_type": "markdown",
      "source": [
        "Evaluate model's results, by using sklearn to calculate the confusion matrix, the accuracy score and to generate the classification report."
      ],
      "metadata": {
        "id": "V0fBP31SiGFb"
      }
    },
    {
      "cell_type": "code",
      "source": [
        "# Create a dictionary to map the class labels to the custom labels\n",
        "target_names = {0:'non_bankrupt', 1:'bankrupt'}\n",
        "\n",
        "# Calculating the confusion matrix\n",
        "cm = confusion_matrix(y_test, predictions)\n",
        "cm_df = pd.DataFrame(cm, index=[\"Actual 0\", \"Actual 1\"], columns=[\"Predicted 0\", \"Predicted 1\"])\n",
        "\n",
        "# Calculating the accuracy score\n",
        "acc_score = accuracy_score(y_test, predictions)"
      ],
      "metadata": {
        "id": "dNq7B-RCh8ug"
      },
      "execution_count": 103,
      "outputs": []
    },
    {
      "cell_type": "code",
      "source": [
        "# Displaying results\n",
        "print(\"Confusion Matrix\")\n",
        "print(cm_df)\n",
        "print(f\"Accuracy Score: {acc_score}\")\n",
        "print(\"Classification Report\")\n",
        "print(classification_report(y_test, predictions, target_names=target_names.values()))"
      ],
      "metadata": {
        "id": "3JcDjCfuh8xK",
        "colab": {
          "base_uri": "https://localhost:8080/"
        },
        "outputId": "9f0e9948-aea1-437d-dcb9-e02ead4348e6"
      },
      "execution_count": 104,
      "outputs": [
        {
          "output_type": "stream",
          "name": "stdout",
          "text": [
            "Confusion Matrix\n",
            "          Predicted 0  Predicted 1\n",
            "Actual 0         1637           10\n",
            "Actual 1           49            9\n",
            "Accuracy Score: 0.9653958944281525\n",
            "Classification Report\n",
            "              precision    recall  f1-score   support\n",
            "\n",
            "non_bankrupt       0.97      0.99      0.98      1647\n",
            "    bankrupt       0.47      0.16      0.23        58\n",
            "\n",
            "    accuracy                           0.97      1705\n",
            "   macro avg       0.72      0.57      0.61      1705\n",
            "weighted avg       0.95      0.97      0.96      1705\n",
            "\n"
          ]
        }
      ]
    },
    {
      "cell_type": "markdown",
      "source": [
        "**Analysis:**\n",
        "\n",
        "The **precision** for the bankrupt class is 0.47, suggesting that only 47% of the predicted bankrupt companies were actually bankrupt.\n",
        "\n",
        "The **recall** for the bankrupt class is 0.16, implying that the model identified only 16% of the total bankrupt companies correctly.\n",
        "\n",
        "The **F1-score** is 0.23 for the bankrupt class. These scores indicate that the model's performance in identifying bankrupt companies is relatively low.\n",
        "\n",
        "The model achieved an **accuracy** of approximately 97%, indicating that it correctly classified 97% of the total instances in the dataset.\n",
        "\n",
        "The results show that the model is performing well in predicting non-bankrupt companies, as indicated by high precision and recall values. However, it struggles with the bankrupt class, having low precision and recall scores. The model is more biased toward the non-bankrupt class, likely due to the imbalanced nature of the data."
      ],
      "metadata": {
        "id": "lnXTEbpLkMZV"
      }
    },
    {
      "cell_type": "markdown",
      "source": [
        "# Gradient Boosting"
      ],
      "metadata": {
        "id": "dKgIp-CokcAq"
      }
    },
    {
      "cell_type": "code",
      "source": [
        "import xgboost as xgb\n",
        "from sklearn.metrics import classification_report\n",
        "\n",
        "# Create a dictionary to map the class labels to the custom labels\n",
        "target_names = {0:'non_bankrupt', 1:'bankrupt'}\n",
        "\n",
        "# Convert data into DMatrix format for XGBoost\n",
        "dtrain = xgb.DMatrix(X_train, label=y_train)\n",
        "dtest = xgb.DMatrix(X_test, label=y_test)\n",
        "\n",
        "# Define parameters\n",
        "param = {\n",
        "    'objective': 'binary:logistic',  # Binary classification\n",
        "    'eval_metric': 'logloss',        # Logarithmic loss metric\n",
        "    'scale_pos_weight': sum(y_train==0) / sum(y_train==1),  # Handle class imbalance\n",
        "    'max_depth': 2,                  # Max depth of the trees\n",
        "    'eta': 0.1,                      # Learning rate\n",
        "}\n",
        "\n",
        "# Training the model\n",
        "num_round = 100  # Number of boosting rounds\n",
        "bst = xgb.train(param, dtrain, num_round)\n",
        "# Predictions for training data\n",
        "train_preds_prob = bst.predict(dtrain)\n",
        "train_preds_binary = [1 if p > 0.5 else 0 for p in train_preds_prob]\n",
        "\n",
        "# Predictions for test data\n",
        "test_preds_prob = bst.predict(dtest)\n",
        "test_preds_binary = [1 if p > 0.5 else 0 for p in test_preds_prob]\n",
        "\n",
        "# Evaluate model's performance on test data\n",
        "print(\"\\nPerformance on Test Data:\")\n",
        "print(classification_report(y_test, test_preds_binary,target_names=target_names.values()))\n"
      ],
      "metadata": {
        "colab": {
          "base_uri": "https://localhost:8080/"
        },
        "id": "iczWQzuslXDa",
        "outputId": "ef3408a3-2664-4ac6-dab8-56ebcd183162"
      },
      "execution_count": 105,
      "outputs": [
        {
          "output_type": "stream",
          "name": "stdout",
          "text": [
            "\n",
            "Performance on Test Data:\n",
            "              precision    recall  f1-score   support\n",
            "\n",
            "non_bankrupt       0.99      0.91      0.95      1647\n",
            "    bankrupt       0.23      0.79      0.36        58\n",
            "\n",
            "    accuracy                           0.90      1705\n",
            "   macro avg       0.61      0.85      0.65      1705\n",
            "weighted avg       0.97      0.90      0.93      1705\n",
            "\n"
          ]
        }
      ]
    },
    {
      "cell_type": "markdown",
      "source": [
        "**Analysis:**\n",
        "\n",
        "**Accuracy:** The model demonstrates an accuracy of 90% on the test data, indicating that it correctly predicts the class labels for approximately 90% of the samples.\n",
        "\n",
        "**Recall, F1-Score and Precision:** The recall for the \"bankrupt\" class is relatively high at 0.79, suggesting that the model correctly identifies 79% of the bankrupt companies. However, this high recall is balanced by a low precision of 0.23. This indicates that when the model predicts a company as bankrupt, it is correct only 23% of the time, resulting in a low F1-score of 0.36. These metrics collectively indicate that the model has a relatively high false positive rate for bankrupt companies.\n",
        "\n",
        " It's evident that there's a substantial class imbalance in the dataset. The \"non_bankrupt\" class has a significantly larger number of samples compared to the \"bankrupt\" class. This class imbalance can affect model performance, particularly in predicting the minority class."
      ],
      "metadata": {
        "id": "u_iLa8vSGX62"
      }
    },
    {
      "cell_type": "code",
      "source": [
        "import xgboost as xgb\n",
        "from sklearn.model_selection import train_test_split\n",
        "from sklearn.metrics import classification_report\n",
        "import warnings\n",
        "\n",
        "warnings.filterwarnings(\"ignore\", category=UserWarning)\n",
        "\n",
        "X_train, X_test, y_train, y_test = train_test_split(X, y, test_size=0.2, random_state=42)\n",
        "\n",
        "# Create a dictionary to map the class labels to the custom labels\n",
        "target_names = {0: 'non_bankrupt', 1: 'bankrupt'}\n",
        "\n",
        "# Implement XGBoost with early stopping\n",
        "model = xgb.XGBClassifier(learning_rate=0.1,\n",
        "                          max_depth=5,\n",
        "                          min_child_weight=1,\n",
        "                          reg_alpha=0.5,\n",
        "                          reg_lambda=0.5,\n",
        "                          scale_pos_weight=sum(y_train == 0) / sum(y_train == 1))\n",
        "\n",
        "eval_set = [(X_train, y_train), (X_test, y_test)]\n",
        "model.fit(X_train, y_train, early_stopping_rounds=10, eval_metric=[\"logloss\"], eval_set=eval_set, verbose=False)\n",
        "\n",
        "# Make predictions for the test set\n",
        "y_pred = model.predict(X_test)\n",
        "\n",
        "# Print the classification report\n",
        "print(classification_report(y_test, y_pred, target_names=target_names.values()))\n"
      ],
      "metadata": {
        "colab": {
          "base_uri": "https://localhost:8080/"
        },
        "id": "6vUAtzklOTOl",
        "outputId": "bdcbcaac-4c9d-4791-a113-155ebd69ef97"
      },
      "execution_count": 106,
      "outputs": [
        {
          "output_type": "stream",
          "name": "stdout",
          "text": [
            "              precision    recall  f1-score   support\n",
            "\n",
            "non_bankrupt       0.98      0.98      0.98      1313\n",
            "    bankrupt       0.47      0.49      0.48        51\n",
            "\n",
            "    accuracy                           0.96      1364\n",
            "   macro avg       0.73      0.73      0.73      1364\n",
            "weighted avg       0.96      0.96      0.96      1364\n",
            "\n"
          ]
        }
      ]
    },
    {
      "cell_type": "markdown",
      "source": [
        "**Analysis:**\n",
        "\n",
        "This model shows better performance for the minority class (\"bankrupt\") in terms of recall and F1-score. Although the recall and F1-score for the \"bankrupt\" class are not high, they are relatively better than previous one. Therefore, this model might be more suitable for predicting bankrupt companies, considering its better performance for the minority class despite the data imbalance.\n"
      ],
      "metadata": {
        "id": "6x22EpPnmq7M"
      }
    },
    {
      "cell_type": "markdown",
      "source": [
        "# Feature Importances"
      ],
      "metadata": {
        "id": "BtFbDqoNDud5"
      }
    },
    {
      "cell_type": "code",
      "source": [
        "import plotly.graph_objects as go\n",
        "\n",
        "# Get feature importances from the trained model\n",
        "importance = model.feature_importances_\n",
        "\n",
        "# Sort feature importances in descending order\n",
        "indices = importance.argsort()[::-1]\n",
        "\n",
        "# Rearrange feature names so they match the sorted feature importances\n",
        "names = [X.columns[i] for i in indices]\n",
        "\n",
        "# Selecting top N features for the pie chart\n",
        "top_n = 15  # We can change this number based on how many features we want to display\n",
        "selected_names = names[:top_n]\n",
        "selected_importance = importance[indices][:top_n]\n",
        "\n",
        "# Creating the pie chart with actual feature names\n",
        "fig = go.Figure(go.Pie(\n",
        "    labels=selected_names,\n",
        "    values=selected_importance,\n",
        "    textinfo='label+percent',\n",
        "    insidetextorientation='radial'\n",
        "))\n",
        "\n",
        "# Updating layout for a cleaner look\n",
        "fig.update_layout(title='Top Feature Importances for Bankruptcy Prediction')\n",
        "\n",
        "# Displaying the pie chart\n",
        "fig.show()\n"
      ],
      "metadata": {
        "colab": {
          "base_uri": "https://localhost:8080/",
          "height": 542
        },
        "id": "WL5SgzpALUS0",
        "outputId": "0159913b-c526-4f2e-eec0-19d610522cc6"
      },
      "execution_count": 114,
      "outputs": [
        {
          "output_type": "display_data",
          "data": {
            "text/html": [
              "<html>\n",
              "<head><meta charset=\"utf-8\" /></head>\n",
              "<body>\n",
              "    <div>            <script src=\"https://cdnjs.cloudflare.com/ajax/libs/mathjax/2.7.5/MathJax.js?config=TeX-AMS-MML_SVG\"></script><script type=\"text/javascript\">if (window.MathJax && window.MathJax.Hub && window.MathJax.Hub.Config) {window.MathJax.Hub.Config({SVG: {font: \"STIX-Web\"}});}</script>                <script type=\"text/javascript\">window.PlotlyConfig = {MathJaxConfig: 'local'};</script>\n",
              "        <script charset=\"utf-8\" src=\"https://cdn.plot.ly/plotly-2.24.1.min.js\"></script>                <div id=\"a9b91987-6dd0-4dcf-ab80-b88e2f206f1d\" class=\"plotly-graph-div\" style=\"height:525px; width:100%;\"></div>            <script type=\"text/javascript\">                                    window.PLOTLYENV=window.PLOTLYENV || {};                                    if (document.getElementById(\"a9b91987-6dd0-4dcf-ab80-b88e2f206f1d\")) {                    Plotly.newPlot(                        \"a9b91987-6dd0-4dcf-ab80-b88e2f206f1d\",                        [{\"insidetextorientation\":\"radial\",\"labels\":[\"NetIncometoTotalAssets\",\"Continuousinterestrate(aftertax)\",\"Totalincome\\u002fTotalexpense\",\"Totaldebt\\u002fTotalnetworth\",\"PersistentEPSintheLastFourSeasons\",\"Borrowingdependency\",\"NetValuePerShare(A)\",\"Non-industryincomeandexpenditure\\u002frevenue\",\"After-taxnetInterestRate\",\"Contingentliabilities\\u002fNetworth\",\"NetIncometoStockholder'sEquity\",\"Operatingprofitperperson\",\"Netprofitbeforetax\\u002fPaid-incapital\",\"WorkingCapitaltoTotalAssets\",\"RealizedSalesGrossMargin\"],\"textinfo\":\"label+percent\",\"values\":[0.20133869349956512,0.06372208893299103,0.05908285826444626,0.04622240737080574,0.04538667947053909,0.04088379442691803,0.029146535322070122,0.0235820934176445,0.018278557807207108,0.01663772203028202,0.016446616500616074,0.01564531773328781,0.01358147244900465,0.01314793061465025,0.011721841990947723],\"type\":\"pie\"}],                        {\"template\":{\"data\":{\"histogram2dcontour\":[{\"type\":\"histogram2dcontour\",\"colorbar\":{\"outlinewidth\":0,\"ticks\":\"\"},\"colorscale\":[[0.0,\"#0d0887\"],[0.1111111111111111,\"#46039f\"],[0.2222222222222222,\"#7201a8\"],[0.3333333333333333,\"#9c179e\"],[0.4444444444444444,\"#bd3786\"],[0.5555555555555556,\"#d8576b\"],[0.6666666666666666,\"#ed7953\"],[0.7777777777777778,\"#fb9f3a\"],[0.8888888888888888,\"#fdca26\"],[1.0,\"#f0f921\"]]}],\"choropleth\":[{\"type\":\"choropleth\",\"colorbar\":{\"outlinewidth\":0,\"ticks\":\"\"}}],\"histogram2d\":[{\"type\":\"histogram2d\",\"colorbar\":{\"outlinewidth\":0,\"ticks\":\"\"},\"colorscale\":[[0.0,\"#0d0887\"],[0.1111111111111111,\"#46039f\"],[0.2222222222222222,\"#7201a8\"],[0.3333333333333333,\"#9c179e\"],[0.4444444444444444,\"#bd3786\"],[0.5555555555555556,\"#d8576b\"],[0.6666666666666666,\"#ed7953\"],[0.7777777777777778,\"#fb9f3a\"],[0.8888888888888888,\"#fdca26\"],[1.0,\"#f0f921\"]]}],\"heatmap\":[{\"type\":\"heatmap\",\"colorbar\":{\"outlinewidth\":0,\"ticks\":\"\"},\"colorscale\":[[0.0,\"#0d0887\"],[0.1111111111111111,\"#46039f\"],[0.2222222222222222,\"#7201a8\"],[0.3333333333333333,\"#9c179e\"],[0.4444444444444444,\"#bd3786\"],[0.5555555555555556,\"#d8576b\"],[0.6666666666666666,\"#ed7953\"],[0.7777777777777778,\"#fb9f3a\"],[0.8888888888888888,\"#fdca26\"],[1.0,\"#f0f921\"]]}],\"heatmapgl\":[{\"type\":\"heatmapgl\",\"colorbar\":{\"outlinewidth\":0,\"ticks\":\"\"},\"colorscale\":[[0.0,\"#0d0887\"],[0.1111111111111111,\"#46039f\"],[0.2222222222222222,\"#7201a8\"],[0.3333333333333333,\"#9c179e\"],[0.4444444444444444,\"#bd3786\"],[0.5555555555555556,\"#d8576b\"],[0.6666666666666666,\"#ed7953\"],[0.7777777777777778,\"#fb9f3a\"],[0.8888888888888888,\"#fdca26\"],[1.0,\"#f0f921\"]]}],\"contourcarpet\":[{\"type\":\"contourcarpet\",\"colorbar\":{\"outlinewidth\":0,\"ticks\":\"\"}}],\"contour\":[{\"type\":\"contour\",\"colorbar\":{\"outlinewidth\":0,\"ticks\":\"\"},\"colorscale\":[[0.0,\"#0d0887\"],[0.1111111111111111,\"#46039f\"],[0.2222222222222222,\"#7201a8\"],[0.3333333333333333,\"#9c179e\"],[0.4444444444444444,\"#bd3786\"],[0.5555555555555556,\"#d8576b\"],[0.6666666666666666,\"#ed7953\"],[0.7777777777777778,\"#fb9f3a\"],[0.8888888888888888,\"#fdca26\"],[1.0,\"#f0f921\"]]}],\"surface\":[{\"type\":\"surface\",\"colorbar\":{\"outlinewidth\":0,\"ticks\":\"\"},\"colorscale\":[[0.0,\"#0d0887\"],[0.1111111111111111,\"#46039f\"],[0.2222222222222222,\"#7201a8\"],[0.3333333333333333,\"#9c179e\"],[0.4444444444444444,\"#bd3786\"],[0.5555555555555556,\"#d8576b\"],[0.6666666666666666,\"#ed7953\"],[0.7777777777777778,\"#fb9f3a\"],[0.8888888888888888,\"#fdca26\"],[1.0,\"#f0f921\"]]}],\"mesh3d\":[{\"type\":\"mesh3d\",\"colorbar\":{\"outlinewidth\":0,\"ticks\":\"\"}}],\"scatter\":[{\"fillpattern\":{\"fillmode\":\"overlay\",\"size\":10,\"solidity\":0.2},\"type\":\"scatter\"}],\"parcoords\":[{\"type\":\"parcoords\",\"line\":{\"colorbar\":{\"outlinewidth\":0,\"ticks\":\"\"}}}],\"scatterpolargl\":[{\"type\":\"scatterpolargl\",\"marker\":{\"colorbar\":{\"outlinewidth\":0,\"ticks\":\"\"}}}],\"bar\":[{\"error_x\":{\"color\":\"#2a3f5f\"},\"error_y\":{\"color\":\"#2a3f5f\"},\"marker\":{\"line\":{\"color\":\"#E5ECF6\",\"width\":0.5},\"pattern\":{\"fillmode\":\"overlay\",\"size\":10,\"solidity\":0.2}},\"type\":\"bar\"}],\"scattergeo\":[{\"type\":\"scattergeo\",\"marker\":{\"colorbar\":{\"outlinewidth\":0,\"ticks\":\"\"}}}],\"scatterpolar\":[{\"type\":\"scatterpolar\",\"marker\":{\"colorbar\":{\"outlinewidth\":0,\"ticks\":\"\"}}}],\"histogram\":[{\"marker\":{\"pattern\":{\"fillmode\":\"overlay\",\"size\":10,\"solidity\":0.2}},\"type\":\"histogram\"}],\"scattergl\":[{\"type\":\"scattergl\",\"marker\":{\"colorbar\":{\"outlinewidth\":0,\"ticks\":\"\"}}}],\"scatter3d\":[{\"type\":\"scatter3d\",\"line\":{\"colorbar\":{\"outlinewidth\":0,\"ticks\":\"\"}},\"marker\":{\"colorbar\":{\"outlinewidth\":0,\"ticks\":\"\"}}}],\"scattermapbox\":[{\"type\":\"scattermapbox\",\"marker\":{\"colorbar\":{\"outlinewidth\":0,\"ticks\":\"\"}}}],\"scatterternary\":[{\"type\":\"scatterternary\",\"marker\":{\"colorbar\":{\"outlinewidth\":0,\"ticks\":\"\"}}}],\"scattercarpet\":[{\"type\":\"scattercarpet\",\"marker\":{\"colorbar\":{\"outlinewidth\":0,\"ticks\":\"\"}}}],\"carpet\":[{\"aaxis\":{\"endlinecolor\":\"#2a3f5f\",\"gridcolor\":\"white\",\"linecolor\":\"white\",\"minorgridcolor\":\"white\",\"startlinecolor\":\"#2a3f5f\"},\"baxis\":{\"endlinecolor\":\"#2a3f5f\",\"gridcolor\":\"white\",\"linecolor\":\"white\",\"minorgridcolor\":\"white\",\"startlinecolor\":\"#2a3f5f\"},\"type\":\"carpet\"}],\"table\":[{\"cells\":{\"fill\":{\"color\":\"#EBF0F8\"},\"line\":{\"color\":\"white\"}},\"header\":{\"fill\":{\"color\":\"#C8D4E3\"},\"line\":{\"color\":\"white\"}},\"type\":\"table\"}],\"barpolar\":[{\"marker\":{\"line\":{\"color\":\"#E5ECF6\",\"width\":0.5},\"pattern\":{\"fillmode\":\"overlay\",\"size\":10,\"solidity\":0.2}},\"type\":\"barpolar\"}],\"pie\":[{\"automargin\":true,\"type\":\"pie\"}]},\"layout\":{\"autotypenumbers\":\"strict\",\"colorway\":[\"#636efa\",\"#EF553B\",\"#00cc96\",\"#ab63fa\",\"#FFA15A\",\"#19d3f3\",\"#FF6692\",\"#B6E880\",\"#FF97FF\",\"#FECB52\"],\"font\":{\"color\":\"#2a3f5f\"},\"hovermode\":\"closest\",\"hoverlabel\":{\"align\":\"left\"},\"paper_bgcolor\":\"white\",\"plot_bgcolor\":\"#E5ECF6\",\"polar\":{\"bgcolor\":\"#E5ECF6\",\"angularaxis\":{\"gridcolor\":\"white\",\"linecolor\":\"white\",\"ticks\":\"\"},\"radialaxis\":{\"gridcolor\":\"white\",\"linecolor\":\"white\",\"ticks\":\"\"}},\"ternary\":{\"bgcolor\":\"#E5ECF6\",\"aaxis\":{\"gridcolor\":\"white\",\"linecolor\":\"white\",\"ticks\":\"\"},\"baxis\":{\"gridcolor\":\"white\",\"linecolor\":\"white\",\"ticks\":\"\"},\"caxis\":{\"gridcolor\":\"white\",\"linecolor\":\"white\",\"ticks\":\"\"}},\"coloraxis\":{\"colorbar\":{\"outlinewidth\":0,\"ticks\":\"\"}},\"colorscale\":{\"sequential\":[[0.0,\"#0d0887\"],[0.1111111111111111,\"#46039f\"],[0.2222222222222222,\"#7201a8\"],[0.3333333333333333,\"#9c179e\"],[0.4444444444444444,\"#bd3786\"],[0.5555555555555556,\"#d8576b\"],[0.6666666666666666,\"#ed7953\"],[0.7777777777777778,\"#fb9f3a\"],[0.8888888888888888,\"#fdca26\"],[1.0,\"#f0f921\"]],\"sequentialminus\":[[0.0,\"#0d0887\"],[0.1111111111111111,\"#46039f\"],[0.2222222222222222,\"#7201a8\"],[0.3333333333333333,\"#9c179e\"],[0.4444444444444444,\"#bd3786\"],[0.5555555555555556,\"#d8576b\"],[0.6666666666666666,\"#ed7953\"],[0.7777777777777778,\"#fb9f3a\"],[0.8888888888888888,\"#fdca26\"],[1.0,\"#f0f921\"]],\"diverging\":[[0,\"#8e0152\"],[0.1,\"#c51b7d\"],[0.2,\"#de77ae\"],[0.3,\"#f1b6da\"],[0.4,\"#fde0ef\"],[0.5,\"#f7f7f7\"],[0.6,\"#e6f5d0\"],[0.7,\"#b8e186\"],[0.8,\"#7fbc41\"],[0.9,\"#4d9221\"],[1,\"#276419\"]]},\"xaxis\":{\"gridcolor\":\"white\",\"linecolor\":\"white\",\"ticks\":\"\",\"title\":{\"standoff\":15},\"zerolinecolor\":\"white\",\"automargin\":true,\"zerolinewidth\":2},\"yaxis\":{\"gridcolor\":\"white\",\"linecolor\":\"white\",\"ticks\":\"\",\"title\":{\"standoff\":15},\"zerolinecolor\":\"white\",\"automargin\":true,\"zerolinewidth\":2},\"scene\":{\"xaxis\":{\"backgroundcolor\":\"#E5ECF6\",\"gridcolor\":\"white\",\"linecolor\":\"white\",\"showbackground\":true,\"ticks\":\"\",\"zerolinecolor\":\"white\",\"gridwidth\":2},\"yaxis\":{\"backgroundcolor\":\"#E5ECF6\",\"gridcolor\":\"white\",\"linecolor\":\"white\",\"showbackground\":true,\"ticks\":\"\",\"zerolinecolor\":\"white\",\"gridwidth\":2},\"zaxis\":{\"backgroundcolor\":\"#E5ECF6\",\"gridcolor\":\"white\",\"linecolor\":\"white\",\"showbackground\":true,\"ticks\":\"\",\"zerolinecolor\":\"white\",\"gridwidth\":2}},\"shapedefaults\":{\"line\":{\"color\":\"#2a3f5f\"}},\"annotationdefaults\":{\"arrowcolor\":\"#2a3f5f\",\"arrowhead\":0,\"arrowwidth\":1},\"geo\":{\"bgcolor\":\"white\",\"landcolor\":\"#E5ECF6\",\"subunitcolor\":\"white\",\"showland\":true,\"showlakes\":true,\"lakecolor\":\"white\"},\"title\":{\"x\":0.05},\"mapbox\":{\"style\":\"light\"}}},\"title\":{\"text\":\"Top Feature Importances for Bankruptcy Prediction\"}},                        {\"responsive\": true}                    ).then(function(){\n",
              "                            \n",
              "var gd = document.getElementById('a9b91987-6dd0-4dcf-ab80-b88e2f206f1d');\n",
              "var x = new MutationObserver(function (mutations, observer) {{\n",
              "        var display = window.getComputedStyle(gd).display;\n",
              "        if (!display || display === 'none') {{\n",
              "            console.log([gd, 'removed!']);\n",
              "            Plotly.purge(gd);\n",
              "            observer.disconnect();\n",
              "        }}\n",
              "}});\n",
              "\n",
              "// Listen for the removal of the full notebook cells\n",
              "var notebookContainer = gd.closest('#notebook-container');\n",
              "if (notebookContainer) {{\n",
              "    x.observe(notebookContainer, {childList: true});\n",
              "}}\n",
              "\n",
              "// Listen for the clearing of the current output cell\n",
              "var outputEl = gd.closest('.output');\n",
              "if (outputEl) {{\n",
              "    x.observe(outputEl, {childList: true});\n",
              "}}\n",
              "\n",
              "                        })                };                            </script>        </div>\n",
              "</body>\n",
              "</html>"
            ]
          },
          "metadata": {}
        }
      ]
    },
    {
      "cell_type": "markdown",
      "source": [
        "**Analysis:**\n",
        "\n",
        "The pie chart visualizes the significance of various financial attributes in influencing the prediction of company bankruptcies. Each segment of the pie chart represents a different financial attribute, and the size of each segment corresponds to the importance of that attribute in the predictive model.\n",
        "\n",
        "The largest segment corresponds to \"Net Income to Total Assets (X86)\", illustrating its substantial influence in determining a company's bankruptcy risk. This feature essentially captures a company's profitability relative to its total assets, which is a critical factor in assessing financial stability.\n",
        "\n",
        "Other notable segments in the pie chart include \"Continuous interest rate (after tax) (X10)\" and \"Total income/Total expense (X69)\", indicating their meaningful contributions to the model's bankruptcy predictions."
      ],
      "metadata": {
        "id": "mdT2_-vmEqTC"
      }
    },
    {
      "cell_type": "code",
      "source": [
        "\n",
        "# Get feature importances from the trained model\n",
        "importance = model.feature_importances_\n",
        "\n",
        "# Sort feature importances in descending order\n",
        "indices = importance.argsort()[::-1]\n",
        "\n",
        "# Limit to top 20 features for better visualization\n",
        "n_features = min(20, len(X.columns))\n",
        "indices = indices[:n_features]\n",
        "\n",
        "# Rearrange feature names so they match the sorted feature importances\n",
        "names = [X.columns[i] for i in indices]\n",
        "\n",
        "# Create plot with enhanced styling\n",
        "plt.figure(figsize=(10, 6))\n",
        "plt.title(\"Top 20 Feature Importance to Predict Bankrupt Companies\", fontsize=16)\n",
        "sns.barplot(x=importance[indices], y=names, palette=\"viridis\")\n",
        "plt.grid(axis='x', linestyle='--', alpha=0.7)\n",
        "plt.tight_layout()\n",
        "plt.show()\n"
      ],
      "metadata": {
        "colab": {
          "base_uri": "https://localhost:8080/",
          "height": 607
        },
        "id": "ELR7fPP0Sck3",
        "outputId": "600b5f62-60b6-41e6-dd03-e3de463ecae7"
      },
      "execution_count": 107,
      "outputs": [
        {
          "output_type": "display_data",
          "data": {
            "text/plain": [
              "<Figure size 1000x600 with 1 Axes>"
            ],
            "image/png": "[encoded data removed]"
          },
          "metadata": {}
        }
      ]
    },
    {
      "cell_type": "markdown",
      "source": [
        "**Analysis:**\n",
        "\n",
        "Bar Chart:\n",
        "The bar chart complements the pie chart by providing a more straightforward comparison of the feature importances.\n",
        "\n",
        "Similar to the pie chart, \"Net Income to Total Assets (X86)\" stands out as a highly influential feature, as it occupies the longest bar in the chart.\n",
        "\n",
        "Other features like \"Continuous interest rate (after tax) (X10)\" and \"Total income/Total expense (X69)\" are also emphasized, confirming their roles as significant predictors in the model.\n",
        "\n",
        "**In simple terms, companies that make good money, don't have too much debt and are efficient with their staff are in a safer position.**"
      ],
      "metadata": {
        "id": "2FHauOSUZqw9"
      }
    },
    {
      "cell_type": "markdown",
      "source": [
        "**Conclusion:**\n",
        "\n",
        "The visualizations effectively convey which financial attributes are most impactful in predicting bankruptcies based on the model. They offer a clear representation, aiding in the easier interpretation of the features' roles and significance in the predictive model."
      ],
      "metadata": {
        "id": "h-spBhqGFDV6"
      }
    },
    {
      "cell_type": "markdown",
      "source": [
        "# Limitations:\n",
        "\n",
        "**Class Imbalance:**\n",
        "\n",
        "Despite efforts, class imbalance still seems to be affecting the performance of the models, particularly in identifying the bankrupt class.\n",
        "\n",
        "**Model Bias:**\n",
        "\n",
        "Models show a bias towards the majority class (non-bankrupt companies), which leads to skew the model's predictive capabilities in identifying bankrupt companies.\n",
        "\n",
        "**Precision-Recall Trade-off:**\n",
        "\n",
        "There seems to be a trade-off between precision and recall, particularly in the Gradient Boosting model, where a higher recall comes at the cost of lower precision.In the Gradient Boosting model, there is a noticeable trade-off between precision and recall, which are two essential metrics in evaluating the model's performance. Specifically, when the model tries harder to identify as many actual bankrupt companies as possible (increasing recall), it tends to also incorrectly identify more non-bankrupt companies as bankrupt (decreasing precision)."
      ],
      "metadata": {
        "id": "iTmTZXDLQyj8"
      }
    },
    {
      "cell_type": "markdown",
      "source": [
        "# Advantages:\n",
        "\n",
        "**Multiple Model Usage:**\n",
        "\n",
        "Utilizing various models like Logistic Regression, Random Forest, Gradient Boosting, and XGBoost provides a diverse perspective and allows for the selection of the model that performs best.\n",
        "\n",
        "**Detailed Analysis:**\n",
        "\n",
        "Comprehensive analysis on each model's precision, recall, F1-score, and accuracy offers a well-rounded view of performance.\n",
        "\n",
        "**Handling Class Imbalance:**\n",
        "\n",
        "Efforts to address class imbalance and its acknowledgment in the analysis show a thoughtful approach to model improvement.\n",
        "\n",
        "**Focus on Minority Class:**\n",
        "\n",
        "Concentrating on the performance metrics of the minority class (bankrupt companies) ensures that the model is evaluated based on its ability to predict the most critical class accurately.\n",
        "\n",
        "**Feature Importance Analysis:**\n",
        "\n",
        "The models help in identifying and highlighting the most influential features, providing insight into the key factors contributing to bankruptcy risk.\n",
        "\n",
        "**Early Warning:**\n",
        "\n",
        "Despite not being perfect, the models can offer early warnings or signals of potential bankruptcies, providing valuable information for risk assessment and decision-making.\n",
        "\n",
        "**Exploratory Analysis:**\n",
        "\n",
        "Using various models facilitates a deeper exploratory analysis, helping to understand the data’s underlying patterns and trends better, and guiding further analysis and modeling.\n",
        "\n",
        "**Continuous Improvement:**\n",
        "\n",
        "These models are foundational and can be improved and refined over time with more data, advanced techniques, and continuous learning and adaptation, enhancing their predictive accuracy and reliability.\n",
        "\n",
        "**Informed Decision-Making:**\n",
        "\n",
        "Despite their current limitations, the models can be part of a broader analytical strategy, contributing valuable insights and information for more informed decision-making in predicting and mitigating bankruptcy risks."
      ],
      "metadata": {
        "id": "E4ZMgJ2CRnkg"
      }
    }
  ]
}